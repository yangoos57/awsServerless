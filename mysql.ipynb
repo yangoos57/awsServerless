{
 "cells": [
  {
   "cell_type": "code",
   "execution_count": 1,
   "metadata": {},
   "outputs": [],
   "source": [
    "import pandas as pd\n",
    "from sqlalchemy import create_engine\n",
    "import pymysql\n",
    "import pandas as pd\n",
    "from datetime import datetime"
   ]
  },
  {
   "cell_type": "markdown",
   "metadata": {},
   "source": [
    "# DoDoMoa SQL"
   ]
  },
  {
   "cell_type": "code",
   "execution_count": 2,
   "metadata": {},
   "outputs": [],
   "source": [
    "db_connection_str = 'mysql+pymysql://root@localhost:3306/dash_test'\n",
    "db_connection = create_engine(db_connection_str)\n",
    "conn = db_connection.connect()\n",
    "\n",
    "dodomoa_info = pd.read_csv('./data/keywordExtraction2ForSQL.csv',index_col=0)\n"
   ]
  },
  {
   "cell_type": "markdown",
   "metadata": {},
   "source": [
    "### backend_dodomoabookinfo\n"
   ]
  },
  {
   "cell_type": "code",
   "execution_count": null,
   "metadata": {},
   "outputs": [],
   "source": [
    "\n",
    "backend_dodomoabookinfo = dodomoa_info[['도서명','저자','출판사','ISBN','주제분류번호','등록일자','이미지주소']]\n",
    "# dodomoa_info['ISBN'] = dodomoa_info['ISBN'].astype(int)\n",
    "backend_dodomoabookinfo.head(1)\n",
    "backend_dodomoabookinfo['출판사'] = backend_dodomoabookinfo['출판사'].fillna('-')\n",
    "\n",
    "\n",
    "backend_dodomoabookinfo.to_sql(name='backend_dodomoabookinfo', con=db_connection, if_exists='append',index=False)\n"
   ]
  },
  {
   "cell_type": "markdown",
   "metadata": {},
   "source": [
    "### backend_dodomoakeyword v1\n"
   ]
  },
  {
   "cell_type": "code",
   "execution_count": null,
   "metadata": {},
   "outputs": [],
   "source": [
    "\n",
    "backend_dodomoakeyword = dodomoa_info.drop(columns=['도서명','저자','출판사','주제분류번호','등록일자','이미지주소','keywords'])\n",
    "\n",
    "# Col 이름변경\n",
    "k = [f'key{i}' for i in range(39)]\n",
    "col = ['ISBN']\n",
    "col.extend(k)\n",
    "backend_dodomoakeyword.columns = col\n",
    "\n",
    "\n",
    "backend_dodomoakeyword.to_sql(name='backend_dodomoakeyword', con=db_connection, if_exists='append',index=False)"
   ]
  },
  {
   "cell_type": "markdown",
   "metadata": {},
   "source": [
    "### backend_dodomoakeyword v2 "
   ]
  },
  {
   "cell_type": "code",
   "execution_count": 35,
   "metadata": {},
   "outputs": [],
   "source": [
    "import numpy as np\n",
    "keyword = list(map(lambda x : str(x), list(range(39))))\n",
    "backend_dodomoakeyword2 = dodomoa_info[keyword]\n",
    "\n",
    "def joinListtoStr(ist:list) -> str:\n",
    "    return \" \".join(ist)\n",
    "\n",
    "result = list(map(joinListtoStr,backend_dodomoakeyword2.astype(str).values.tolist()))\n",
    "result = list(map(lambda x : x.replace('nan',''), result))\n"
   ]
  },
  {
   "cell_type": "code",
   "execution_count": null,
   "metadata": {},
   "outputs": [],
   "source": [
    "tosql = dodomoa_info[['ISBN']]\n",
    "tosql['keyword'] = result\n",
    "\n",
    "tosql\n",
    "tosql.to_sql(name='backend_dodomoakeyword2', con=db_connection, if_exists='append',index=False)"
   ]
  },
  {
   "cell_type": "markdown",
   "metadata": {},
   "source": [
    "### backend_dodomoalibinfo"
   ]
  },
  {
   "cell_type": "markdown",
   "metadata": {},
   "source": [
    "**도서관별 책 목록 추출**"
   ]
  },
  {
   "cell_type": "code",
   "execution_count": null,
   "metadata": {},
   "outputs": [],
   "source": [
    "# #연습용\n",
    "# filelist = os.listdir('./data/libbooks/')\n",
    "# k = pd.read_csv(f'./data/libbooks/{filelist[2]}',encoding='cp949',index_col=0)\n",
    "# k = k.dropna(subset='주제분류번호')\n",
    "# k = k.query('등록일자 > \"2018-01-01\"')\n"
   ]
  },
  {
   "cell_type": "code",
   "execution_count": null,
   "metadata": {},
   "outputs": [],
   "source": [
    "import os\n",
    "\n",
    "filelist = os.listdir('./data/libbooks/')\n",
    "\n",
    "\n",
    "result = []\n",
    "for num, fileName in enumerate(filelist) :\n",
    "    name = ['영등포','송파','강서','마포','정독','강남','고덕','동작','구로','동대문','용산','양천','도봉','남산','종로','마포평생','개포','노원','고척','남산','서대문','강동'] \n",
    "    k = pd.read_csv(f'./data/libbooks/{fileName}',encoding='cp949',index_col=0)\n",
    "    k = k.dropna(subset='주제분류번호')\n",
    "    k = k.query('등록일자 > \"2018-01-01\"')\n",
    "    k005 = k[k['주제분류번호'].str.contains('005.').replace(float('nan'),False)]\n",
    "    k004 = k[k['주제분류번호'].str.contains('004.').replace(float('nan'),False)]\n",
    "    val = pd.concat([k004,k005])[['ISBN']]\n",
    "    val['지역'] = name[num]\n",
    "    result.append(val)\n",
    "\n",
    "booklist = pd.concat(result).reset_index(drop=True)\n",
    "\n",
    "booklist.head(3)"
   ]
  },
  {
   "cell_type": "code",
   "execution_count": 46,
   "metadata": {},
   "outputs": [
    {
     "data": {
      "text/plain": [
       "25416"
      ]
     },
     "execution_count": 46,
     "metadata": {},
     "output_type": "execute_result"
    }
   ],
   "source": [
    "booklist.to_sql(name='backend_dodomoalibinfo', con=db_connection, if_exists='append',index=False)"
   ]
  },
  {
   "cell_type": "code",
   "execution_count": null,
   "metadata": {},
   "outputs": [],
   "source": [
    "#pymysql 연결\n",
    "import pymysql\n",
    "import pandas as pd\n",
    "conn=pymysql.connect(host='localhost',port=int(3306),user='root',passwd='',db='dash_test')\n",
    "cursor = conn.cursor(pymysql.cursors.DictCursor)\n",
    "\n"
   ]
  },
  {
   "cell_type": "markdown",
   "metadata": {},
   "source": [
    "### Bookinfo 제거 및 재작성"
   ]
  },
  {
   "cell_type": "code",
   "execution_count": null,
   "metadata": {},
   "outputs": [],
   "source": [
    "cursor.execute('''DROP TABLE backend_dodomoabookinfo''')\n",
    "result = cursor.fetchall()\n",
    "libinfo = pd.DataFrame(result)\n",
    "libinfo"
   ]
  },
  {
   "cell_type": "code",
   "execution_count": null,
   "metadata": {},
   "outputs": [],
   "source": [
    "cursor.execute('''CREATE TABLE backend_dodomoabookinfo (\n",
    "    id INT AUTO_INCREMENT NOT NULL ,\n",
    "    ISBN BIGINT NOT NULL ,\n",
    "    도서명 VARChar(180),\n",
    "    저자 VARChar(240),\n",
    "    출판사 VARChar(50),\n",
    "    주제분류번호 VARChar(20),\n",
    "    등록일자 Date,\n",
    "    이미지주소 VARChar(100),\n",
    "    PRIMARY KEY (id, ISBN)\n",
    ") ENGINE=innoDB''')\n",
    "result = cursor.fetchall()\n",
    "libinfo = pd.DataFrame(result)\n",
    "libinfo"
   ]
  },
  {
   "cell_type": "code",
   "execution_count": null,
   "metadata": {},
   "outputs": [],
   "source": [
    "newdf = pd.read_csv('./data/tempdata.csv',index_col=0)\n",
    "newdff = newdf[['도서명','저자','출판사','ISBN','주제분류번호','등록일자','이미지주소']]\n",
    "\n",
    "newdff['출판사'] = newdff['출판사'].fillna('-')\n",
    "newdff['주제분류번호'] = '00'+ newdff['주제분류번호'].astype(str)"
   ]
  },
  {
   "cell_type": "code",
   "execution_count": null,
   "metadata": {},
   "outputs": [],
   "source": [
    "newdff.to_sql(name='backend_dodomoabookinfo', con=db_connection, if_exists='append',index=False)"
   ]
  }
 ],
 "metadata": {
  "kernelspec": {
   "display_name": "Python 3.9.1 64-bit",
   "language": "python",
   "name": "python3"
  },
  "language_info": {
   "codemirror_mode": {
    "name": "ipython",
    "version": 3
   },
   "file_extension": ".py",
   "mimetype": "text/x-python",
   "name": "python",
   "nbconvert_exporter": "python",
   "pygments_lexer": "ipython3",
   "version": "3.9.1"
  },
  "orig_nbformat": 4,
  "vscode": {
   "interpreter": {
    "hash": "b2097164ba635ebffc0e3795dc845ae25b57eedf0c1eb5773ded6aee9fc1b279"
   }
  }
 },
 "nbformat": 4,
 "nbformat_minor": 2
}
