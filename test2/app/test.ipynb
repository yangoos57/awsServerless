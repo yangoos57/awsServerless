{
 "cells": [
  {
   "cell_type": "code",
   "execution_count": 1,
   "metadata": {},
   "outputs": [
    {
     "name": "stdout",
     "output_type": "stream",
     "text": [
      "Session Connected!\n",
      "{'user_search': ['도커'], 'selected_lib': ['양천']}\n",
      "finished query\n",
      "{'user_search': ['도커'], 'selected_lib': ['양천'], 'response': True, 'table_id': '0e265895-7871-4797-a1d3-4a46aca21aff', 'result': [{'bookname': '그림과 실습으로 배우는 도커 & 쿠버네티스: 개념과 작동 원리가 쏙쏙 이해되는 완벽 입문서', 'authors': '오가사와라 시게타카 지음, 심효섭 옮김', 'class_no': '005.1', 'bookImageURL': 'http://www.hello.world', 'publisher': '위키북스', 'isbn13': '9791158393038', 'reg_date': '2022-06-10', 'lib_name': '양천'}, {'bookname': '(컨테이너 인프라 환경 구축을 위한) 쿠버네티스/도커 ', 'authors': '조훈,심근우,문성주 지음', 'class_no': '005.1', 'bookImageURL': 'http://www.hello.world', 'publisher': '길벗', 'isbn13': '9791165215743', 'reg_date': '2021-08-13', 'lib_name': '양천'}, {'bookname': '개발자를 위한 웹 개발 환경 자동화 :데브옵스를 활용한 웹 애플리케이션 개발 ', 'authors': '미테쉬 소니 지음 ;김영기 옮김', 'class_no': '005.12', 'bookImageURL': 'http://www.hello.world', 'publisher': '에이콘(에이콘출판주식회사)', 'isbn13': '9791161756004', 'reg_date': '2022-04-08', 'lib_name': '양천'}, {'bookname': '모던 데이터 보호 - 테이프부터 최신 워크로드까지', 'authors': 'W. 커티스 프레스턴 지음, 서도현 외 옮김', 'class_no': '004.61', 'bookImageURL': 'http://www.hello.world', 'publisher': '에이콘출판', 'isbn13': '9791161756936', 'reg_date': '2022-11-28', 'lib_name': '양천'}, {'bookname': '쿠버네티스 인 액션', 'authors': '마르코 룩샤 지음, 강인호 외 옮김', 'class_no': '005.118', 'bookImageURL': 'http://www.hello.world', 'publisher': '에이콘출판', 'isbn13': '9791161754048', 'reg_date': '2020-04-28', 'lib_name': '양천'}, {'bookname': '핵심만 콕! 쿠버네티스', 'authors': '유홍근', 'class_no': '005.11', 'bookImageURL': 'http://www.hello.world', 'publisher': '비제이퍼블릭', 'isbn13': '9791165920180', 'reg_date': '2020-10-06', 'lib_name': '양천'}, {'bookname': '쿠버네티스 완벽 가이드 ', 'authors': '마사야 아오야마 지음 ;박상욱 옮김', 'class_no': '005.11', 'bookImageURL': 'http://www.hello.world', 'publisher': '길벗', 'isbn13': '9791165216283', 'reg_date': '2021-12-20', 'lib_name': '양천'}, {'bookname': '(실전!) Node.js 마이크로서비스 개발 :자바스크립트를 이용한 마이크로서비스 구축부터 보안, 테스트, 배포까지 ', 'authors': '디오고 헤센데 지음 ;최민석 옮김', 'class_no': '005.138', 'bookImageURL': 'http://www.hello.world', 'publisher': '위키북스', 'isbn13': '9791158391294', 'reg_date': '2019-03-27', 'lib_name': '양천'}, {'bookname': '네트워크 가상화의 모든 것 :SDN을 만난 NFV ', 'authors': '라젠드라 차야파티,시에드 파룩 하산,파레시 샤 지음 ;최성남 옮김', 'class_no': '004.5', 'bookImageURL': 'http://www.hello.world', 'publisher': '에이콘', 'isbn13': '9791161751405', 'reg_date': '2018-08-24', 'lib_name': '양천'}, {'bookname': '데브옵스를 지탱하는 클라우드 네이티브 입문 - 쿠버네티스와 프로메테우스를 이용한 마이크로서비스 환경 구축과 배포, 모니터링 가이드', 'authors': '오누르 일마즈, 슬레이만 아크바스 (지은이), 오주환 (옮긴이)', 'class_no': '004.58', 'bookImageURL': 'http://www.hello.world', 'publisher': '에이콘출판', 'isbn13': '9791161755786', 'reg_date': '2021-11-05', 'lib_name': '양천'}, {'bookname': '실용주의 인공지능', 'authors': '노아 기프트', 'class_no': '004.73', 'bookImageURL': 'http://www.hello.world', 'publisher': '성안당', 'isbn13': '9788931556124', 'reg_date': '2019-11-14', 'lib_name': '양천'}, {'bookname': '파이썬 마이크로서비스 :모범 사례로 알아보는 파이썬 마이크로서비스 개발, 테스트, 배포 및 확장하기 ', 'authors': '타렉 지아드 지음 ;김현욱 옮김', 'class_no': '005.133', 'bookImageURL': 'http://www.hello.world', 'publisher': '에이콘출판', 'isbn13': '9791161752730', 'reg_date': '2019-05-27', 'lib_name': '양천'}, {'bookname': 'Docker 도커 실전 가이드 (Web 애플리케이션 개발 환경 구축 노하우)', 'authors': '사쿠라이 요이치로.무라사키 다이스케 지음|박현태', 'class_no': '005.118', 'bookImageURL': 'http://www.hello.world', 'publisher': 'Youngjin.com(영진닷컴)', 'isbn13': '9788931465273', 'reg_date': '2021-11-26', 'lib_name': '양천'}, {'bookname': '타입스크립트 실전 프로젝트', 'authors': '피터 오한론', 'class_no': '005.138', 'bookImageURL': 'http://www.hello.world', 'publisher': '에이콘', 'isbn13': '9791161754888', 'reg_date': '2022-08-11', 'lib_name': '양천'}, {'bookname': '(Do it) 장고 + 부트스트랩 파이썬 웹 개발의 정석 =Do it! django + bootstrap python web programming :웹 기초부터 블로그 개발·배포·운영까지! :만들면서 배우는 웹 개발 A to Z ', 'authors': '이성용,김태곤 지음', 'class_no': '005.133', 'bookImageURL': 'http://www.hello.world', 'publisher': '이지스퍼블리싱', 'isbn13': '9791163032069', 'reg_date': '2021-07-23', 'lib_name': '양천'}, {'bookname': 'ASP.NET Core 애플리케이션 개발 :4가지 스프린트를 통한 가장 쉬운 애플리케이션 구축 ', 'authors': '제임스 챔버스,데이비드 파큇,사이먼 팀스 지음 ;금재용 옮김', 'class_no': '005.118', 'bookImageURL': 'http://www.hello.world', 'publisher': 'BJpublic(비제이퍼블릭)', 'isbn13': '9791186697450', 'reg_date': '2019-04-29', 'lib_name': '양천'}, {'bookname': '스프링 부트 실전 활용 마스터:스프링 부트 개발과 운영부터 웹플럭스, R소켓, 메시징을 활용한 고급 리액티브 웹 개발까지', 'authors': '그렉 턴키스트 지음;오명운 옮김', 'class_no': '005.118', 'bookImageURL': 'http://www.hello.world', 'publisher': '책만', 'isbn13': '9791189909307', 'reg_date': '2021-06-07', 'lib_name': '양천'}, {'bookname': '실전 카프카 개발부터 운영까지 :데이터 플랫폼의 중추 아파치 카프카의 내부 동작과 개발, 운영, 보안의 모든 것 ', 'authors': '고승범 지음', 'class_no': '005.74', 'bookImageURL': 'http://www.hello.world', 'publisher': '책만', 'isbn13': '9791189909345', 'reg_date': '2022-02-09', 'lib_name': '양천'}, {'bookname': 'Go를 활용한 머신 러닝 :Go 프로그래밍 언어를 사용해 회귀분석, 분류, 클러스터링, 시계열 모델, 신경망 및 딥러닝 구현하기 ', 'authors': '다니엘 화이트낵 지음 ;장세윤 옮김', 'class_no': '005.13', 'bookImageURL': 'http://www.hello.world', 'publisher': '에이콘', 'isbn13': '9791161752662', 'reg_date': '2019-03-27', 'lib_name': '양천'}, {'bookname': '카프카, 데이터 플랫폼의 최강자 :실시간 비동기 스트리밍 솔루션 Kafka의 기본부터 확장 응용까지 ', 'authors': '고승범,공용준 지음', 'class_no': '005.76', 'bookImageURL': 'http://www.hello.world', 'publisher': '책만', 'isbn13': '9791196203726', 'reg_date': '2018-05-11', 'lib_name': '양천'}, {'bookname': '스프링 마이크로서비스 코딩 공작소 :빠른 개발과 배포로 사용자 요구에 신속하게 대응하자! ', 'authors': '존 카넬 지음 ;정성권 옮김', 'class_no': '005.12', 'bookImageURL': 'http://www.hello.world', 'publisher': '길벗', 'isbn13': '9791160506815', 'reg_date': '2020-06-05', 'lib_name': '양천'}, {'bookname': '실전 예제로 배우는 GAN : 파이썬, 텐서플로, 케라스로 다양한 GAN 아키텍처를 구축하고 활용하기', 'authors': '조시 칼린', 'class_no': '004.73', 'bookImageURL': 'http://www.hello.world', 'publisher': '위키북스', 'isbn13': '9791158391652', 'reg_date': '2021-01-08', 'lib_name': '양천'}, {'bookname': '(파이썬을 이용한) 머신러닝, 딥러닝 실전 개발 입문 :웹 크롤링과 스크레이핑부터 머신러닝·딥러닝까지 체계적으로 배우기 ', 'authors': '쿠지라 히코우즈쿠에 지음 ;윤인성 옮김', 'class_no': '004.73', 'bookImageURL': 'http://www.hello.world', 'publisher': '위키북스', 'isbn13': '9791158390679', 'reg_date': '2018-02-23', 'lib_name': '양천'}, {'bookname': 'Istio로 시작하는 서비스 메시', 'authors': '라훌 샤르마.아비나시 싱 지음, 황주필 옮김', 'class_no': '004.588', 'bookImageURL': 'http://www.hello.world', 'publisher': '에이콘출판', 'isbn13': '9791161754123', 'reg_date': '2020-06-15', 'lib_name': '양천'}, {'bookname': '완벽한 IT 인프라 구축의 자동화를 위한 Kubernetes 쿠버네티스', 'authors': 'Asa Shiho 저/이영란 역/Makabe Toru 감수', 'class_no': '005.11', 'bookImageURL': 'http://www.hello.world', 'publisher': '정보문화사', 'isbn13': '9788956748412', 'reg_date': '2019-09-25', 'lib_name': '양천'}, {'bookname': '살아 움직이는 머신러닝 파이프라인 설계 (텐서플로와 함께하는 머신러닝 프로젝트 자동화)', 'authors': '하네스 막스 하프케', 'class_no': '004.73', 'bookImageURL': 'http://www.hello.world', 'publisher': '한빛미디어', 'isbn13': '9791162244814', 'reg_date': '2021-11-03', 'lib_name': '양천'}, {'bookname': '매니징 쿠버네티스 :창시자가 알려주는 쿠버네티스 클러스터 현장 운영 기법 ', 'authors': '지은이: 브렌던 번스,크레이그 트레이시 ;옮긴이: 오성근', 'class_no': '005.11', 'bookImageURL': 'http://www.hello.world', 'publisher': '한빛미디어', 'isbn13': '9791162241929', 'reg_date': '2021-02-19', 'lib_name': '양천'}, {'bookname': '젯팩 컴포즈로 개발하는 안드로이드 UI', 'authors': '토마스 쿠네스 지음, 강경구 옮김', 'class_no': '005.58', 'bookImageURL': 'http://www.hello.world', 'publisher': '에이콘출판', 'isbn13': '9791161757100', 'reg_date': '2023-02-14', 'lib_name': '양천'}, {'bookname': '프로메테우스, 오픈소스 모니터링 시스템 - 쿠버네티스와 클라우드 환경을 위한 메트릭 기반 성능 모니터링 도구', 'authors': '브라이언 브라질 (지은이), 김영기, 김현진 (옮긴이)', 'class_no': '004.588', 'bookImageURL': 'http://www.hello.world', 'publisher': '책만', 'isbn13': '9791189909079', 'reg_date': '2019-11-08', 'lib_name': '양천'}, {'bookname': '아마존 웹 서비스를 이용한글로벌 서비스 인프라 설계:효율적인 AWS 운용을 위한 DevOps 환경 만들기', 'authors': '윤상배,김창수 지음', 'class_no': '004.58', 'bookImageURL': 'http://www.hello.world', 'publisher': '위키북스', 'isbn13': '9791158390303', 'reg_date': '2018-01-03', 'lib_name': '양천'}, {'bookname': '앤서블 철저 입문 :Ansible로 클라우드 구성 관리 자동화하기 ', 'authors': '히로가와 히데토시 [외] 지음 ;이현정 옮김', 'class_no': '005.1', 'bookImageURL': 'http://www.hello.world', 'publisher': '위키북스', 'isbn13': '9791158390808', 'reg_date': '2018-03-30', 'lib_name': '양천'}, {'bookname': '당신이 지금 알아야 할 AWS', 'authors': '이영호.한동수 지음', 'class_no': '005.588', 'bookImageURL': 'http://www.hello.world', 'publisher': '비제이퍼블릭', 'isbn13': '9791190014304', 'reg_date': '2019-06-27', 'lib_name': '양천'}, {'bookname': '쿠브플로우!', 'authors': '이명환 외 지음', 'class_no': '004.73', 'bookImageURL': 'http://www.hello.world', 'publisher': 'Digital Books(디지털북스)', 'isbn13': '9788960883055', 'reg_date': '2020-09-02', 'lib_name': '양천'}, {'bookname': '(The) game graphics :모델링과 텍스처링 #3', 'authors': '지은이: 강희송,박예동,박정원,배건호,석지웅,손석민,신미라,신종현,양은경,이경민,이주영', 'class_no': '004.76', 'bookImageURL': 'http://www.hello.world', 'publisher': '비엘북스', 'isbn13': '9791186573297', 'reg_date': '2019-03-08', 'lib_name': '양천'}, {'bookname': '(4차 산업혁명 현장 전문가가 알려주는) 빅데이터 분석과 활용 ', 'authors': '박인근,홍지후,강남규,김성호,정구범 지음', 'class_no': '005.76', 'bookImageURL': 'http://www.hello.world', 'publisher': 'Jpub(제이펍)', 'isbn13': '9791188621507', 'reg_date': '2019-03-17', 'lib_name': '양천'}, {'bookname': '초등학생이 알아야 할 숫자, 컴퓨터와 코딩 100가지', 'authors': '앨리스 제임스 외 지음, 페데리코 마리아니 외 그림, 배장열 옮김, 조너선 존스 감수', 'class_no': '005.1', 'bookImageURL': 'http://www.hello.world', 'publisher': '어스본코리아', 'isbn13': '9791188454266', 'reg_date': '2019-04-01', 'lib_name': '양천'}, {'bookname': '아라, 별을 코딩하다', 'authors': '코말 싱 지음, 이펙 코나크 그림, 홍지연 옮김', 'class_no': '005.1', 'bookImageURL': 'http://www.hello.world', 'publisher': '을파소', 'isbn13': '9788950979485', 'reg_date': '2019-04-01', 'lib_name': '양천'}, {'bookname': '안드로이드 with Kotlin 앱 프로그래밍 가이드:안드로이드 9.0 파이, 자바+코틀린 App 개발 필독서', 'authors': '안귀정 지음', 'class_no': '005.11', 'bookImageURL': 'http://www.hello.world', 'publisher': '아이콕스', 'isbn13': '9791186886892', 'reg_date': '2019-03-04', 'lib_name': '양천'}, {'bookname': '반갑다 Ionic :Ionic을 이용한 하이브리드 앱 만들기  ', 'authors': '저자: 이경주', 'class_no': '005.11', 'bookImageURL': 'http://www.hello.world', 'publisher': 'BJpublic(비제이퍼블릭)', 'isbn13': '9791186697566', 'reg_date': '2019-05-17', 'lib_name': '양천'}, {'bookname': '게임 서버 프로그래밍 교과서=Game server programming textbook:알고리즘부터 아키텍처까지', 'authors': '배현직 지음', 'class_no': '005.11', 'bookImageURL': 'http://www.hello.world', 'publisher': '길벗', 'isbn13': '9791160507478', 'reg_date': '2019-04-22', 'lib_name': '양천'}, {'bookname': '밑바닥부터 만드는 컴퓨팅 시스템 :불 논리부터 컴퓨터 아키텍처, 운영체제까지 ', 'authors': '노암 닛산,사이먼 쇼켄 지음 ;김진홍 옮김', 'class_no': '004.16', 'bookImageURL': 'http://www.hello.world', 'publisher': '인사이트', 'isbn13': '9788966262427', 'reg_date': '2019-04-22', 'lib_name': '양천'}, {'bookname': '알고리즘 트레이닝 :프로그래밍 대회 입문 가이드 ', 'authors': '지은이: 안티 라크소넨 ;옮긴이: 조승현,김진현', 'class_no': '005.1', 'bookImageURL': 'http://www.hello.world', 'publisher': '인사이트', 'isbn13': '9788966262441', 'reg_date': '2019-05-17', 'lib_name': '양천'}, {'bookname': '컴퓨터구조론=Computer Architecture ', 'authors': '김종현 지음', 'class_no': '004.22', 'bookImageURL': 'http://www.hello.world', 'publisher': '생능출판', 'isbn13': '9788970509693', 'reg_date': '2019-03-25', 'lib_name': '양천'}, {'bookname': '(실습과 그림으로 배우는) 리눅스 구조 :개발자가 알아야 하는 OS와 하드웨어의 기초 ', 'authors': '다케우치 사토루 지음 ;신준희 옮김', 'class_no': '005.44', 'bookImageURL': 'http://www.hello.world', 'publisher': '한빛미디어', 'isbn13': '9791162241523', 'reg_date': '2019-03-25', 'lib_name': '양천'}, {'bookname': '하이퍼레저 블록체인 개발', 'authors': '니틴 가워 외 지음, 임지순 외 옮김, 맹윤호 감수', 'class_no': '004.6', 'bookImageURL': 'http://www.hello.world', 'publisher': '한빛미디어', 'isbn13': '9791162241462', 'reg_date': '2019-04-02', 'lib_name': '양천'}, {'bookname': '(Android studio를 활용한) 안드로이드 프로그래밍 :Android 9.0(파이) 지원, Android studio 3.x 사용 ', 'authors': '우재남,박길식 지음', 'class_no': '005.11', 'bookImageURL': 'http://www.hello.world', 'publisher': '한빛아카데미', 'isbn13': '9791156644385', 'reg_date': '2019-03-17', 'lib_name': '양천'}, {'bookname': '(한 번 읽으면 두 번 깨닫는) 객체지향 프로그래밍 =Object-oriented programming ', 'authors': '지은이: 김동헌', 'class_no': '005.133', 'bookImageURL': 'http://www.hello.world', 'publisher': 'e비즈북스', 'isbn13': '9791157831357', 'reg_date': '2019-04-26', 'lib_name': '양천'}, {'bookname': '(파이썬으로 배우는) 알고리즘 트레이딩 :내 손으로 만드는 자동 주식 거래 시스템 ', 'authors': '조대표 지음', 'class_no': '005.133', 'bookImageURL': 'http://www.hello.world', 'publisher': '위키북스', 'isbn13': '9791158391461', 'reg_date': '2019-04-26', 'lib_name': '양천'}, {'bookname': '가장 빨리 만나는 챗봇 프로그래밍', 'authors': '김영욱 지음', 'class_no': '004.73', 'bookImageURL': 'http://www.hello.world', 'publisher': '길벗', 'isbn13': '9791160506754', 'reg_date': '2019-04-02', 'lib_name': '양천'}, {'bookname': '(STM32F 시리즈를 이용한) ARM Cortex-M3/M4 구조와 응용 :I/O 입출력부터 USB, TCP/IP 통신까지 ', 'authors': '차동혁,김재일,김상민 지음', 'class_no': '004.2213', 'bookImageURL': 'http://www.hello.world', 'publisher': '홍릉과학출판사', 'isbn13': '9791156005353', 'reg_date': '2019-02-22', 'lib_name': '양천'}]}\n"
     ]
    }
   ],
   "source": [
    "from sqlalchemy.orm import sessionmaker\n",
    "from sqlalchemy import create_engine\n",
    "from configs import Deployment\n",
    "from uuid import uuid4\n",
    "from search import BookSearcher\n",
    "\n",
    "# Env\n",
    "env = Deployment()\n",
    "\n",
    "# Load Book Search Class\n",
    "book_searcher = BookSearcher()\n",
    "\n",
    "# DB Session using Sqlalchemy.orm\n",
    "SQLALCHEMY_DATABASE_URL = f\"{env.db_dir}/{env.db_name}\"\n",
    "engine = create_engine(SQLALCHEMY_DATABASE_URL)\n",
    "Session = sessionmaker(bind=engine)\n",
    "session = Session()\n",
    "print(\"Session Connected!\")\n",
    "\n",
    "\n",
    "def handler(event, context):\n",
    "    print(event)\n",
    "    try:\n",
    "        book_df = book_searcher.create_book_recommandation_df(session, event).to_dict(\"records\")\n",
    "        resp = True\n",
    "    except KeyError as e:\n",
    "        book_df = {}\n",
    "        resp = False\n",
    "\n",
    "    print(\"finished query\")\n",
    "    return {\n",
    "        \"user_search\": event[\"user_search\"],\n",
    "        \"selected_lib\": event[\"selected_lib\"],\n",
    "        \"response\": resp,\n",
    "        \"table_id\": str(uuid4()),\n",
    "        \"result\": book_df,\n",
    "    }\n",
    "\n",
    "\n",
    "if __name__ == \"__main__\":\n",
    "    test_data = {\"user_search\": [\"도커\"], \"selected_lib\": [\"양천\"]}\n",
    "    print(handler(event=test_data, context=\"t\"))\n"
   ]
  }
 ],
 "metadata": {
  "kernelspec": {
   "display_name": "venv",
   "language": "python",
   "name": "python3"
  },
  "language_info": {
   "codemirror_mode": {
    "name": "ipython",
    "version": 3
   },
   "file_extension": ".py",
   "mimetype": "text/x-python",
   "name": "python",
   "nbconvert_exporter": "python",
   "pygments_lexer": "ipython3",
   "version": "3.9.1"
  },
  "orig_nbformat": 4
 },
 "nbformat": 4,
 "nbformat_minor": 2
}
