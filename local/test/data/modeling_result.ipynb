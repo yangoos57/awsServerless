{
 "cells": [
  {
   "cell_type": "code",
   "execution_count": 1,
   "metadata": {},
   "outputs": [
    {
     "name": "stderr",
     "output_type": "stream",
     "text": [
      "Some weights of the model checkpoint at monologg/koelectra-base-v3-discriminator were not used when initializing ElectraModel: ['discriminator_predictions.dense.weight', 'discriminator_predictions.dense_prediction.bias', 'discriminator_predictions.dense_prediction.weight', 'discriminator_predictions.dense.bias']\n",
      "- This IS expected if you are initializing ElectraModel from the checkpoint of a model trained on another task or with another architecture (e.g. initializing a BertForSequenceClassification model from a BertForPreTraining model).\n",
      "- This IS NOT expected if you are initializing ElectraModel from the checkpoint of a model that you expect to be exactly identical (initializing a BertForSequenceClassification model from a BertForSequenceClassification model).\n"
     ]
    }
   ],
   "source": [
    "import sys\n",
    "\n",
    "sys.path.append(\"../../\")\n",
    "\n",
    "from components.modeling import keywordExtractor\n",
    "import pandas as pd\n",
    "\n",
    "extractor = keywordExtractor(dir=\"../../data/preprocess/eng_han.csv\")\n"
   ]
  },
  {
   "cell_type": "code",
   "execution_count": 2,
   "metadata": {},
   "outputs": [],
   "source": [
    "test_df = pd.read_parquet(\"modeling_test.parquet\")\n",
    "test_series = test_df.iloc[0]\n"
   ]
  },
  {
   "cell_type": "code",
   "execution_count": 3,
   "metadata": {},
   "outputs": [],
   "source": [
    "test_result = dict()\n"
   ]
  },
  {
   "attachments": {},
   "cell_type": "markdown",
   "metadata": {},
   "source": [
    "#### extract_keyword_list 메서드 결과값 저장\n"
   ]
  },
  {
   "cell_type": "code",
   "execution_count": 4,
   "metadata": {},
   "outputs": [],
   "source": [
    "test_result[\"extract_keyword_list\"] = extractor.extract_keyword_list(test_series)\n",
    "\n",
    "test_result[\"_convert_series_to_keyword_list\"] = extractor._convert_series_to_keyword_list(\n",
    "    test_series\n",
    ")\n",
    "\n",
    "test_result[\"_extract_keywords\"] = extractor._extract_keywords(\n",
    "    test_result[\"_convert_series_to_keyword_list\"]\n",
    ")\n",
    "\n",
    "test_result[\"_map_english_to_hangeul\"] = extractor._map_english_to_hangeul(\n",
    "    test_result[\"_extract_keywords\"]\n",
    ")\n"
   ]
  },
  {
   "attachments": {},
   "cell_type": "markdown",
   "metadata": {},
   "source": [
    "#### create_keyword_embedding 메서드 결과값 저장\n"
   ]
  },
  {
   "cell_type": "code",
   "execution_count": 5,
   "metadata": {},
   "outputs": [],
   "source": [
    "test_result[\"create_keyword_embedding\"] = extractor.create_keyword_embedding(test_series)\n",
    "\n",
    "test_result[\"tokenize_keyword\"] = extractor.tokenize_keyword(test_result[\"extract_keyword_list\"])\n",
    "\n",
    "test_result[\"_create_keyword_embedding\"] = extractor._create_keyword_embedding(\n",
    "    test_result[\"tokenize_keyword\"]\n",
    ")\n"
   ]
  },
  {
   "attachments": {},
   "cell_type": "markdown",
   "metadata": {},
   "source": [
    "#### create_doc_embeddings 메서드 결과값 저장\n"
   ]
  },
  {
   "cell_type": "code",
   "execution_count": 6,
   "metadata": {},
   "outputs": [],
   "source": [
    "test_result[\"create_doc_embeddings\"] = extractor.create_doc_embeddings(test_series)\n",
    "\n",
    "test_result[\"_convert_series_to_str\"] = extractor._convert_series_to_str(test_series)\n",
    "\n",
    "test_result[\"tokenize_doc\"] = extractor.tokenize_keyword(test_result[\"_convert_series_to_str\"])\n",
    "\n",
    "test_result[\"_create_doc_embeddings\"] = extractor._create_doc_embeddings(\n",
    "    test_result[\"tokenize_doc\"]\n",
    ")\n"
   ]
  },
  {
   "attachments": {},
   "cell_type": "markdown",
   "metadata": {},
   "source": [
    "#### extract_keyword 메서드 결과값 저장\n"
   ]
  },
  {
   "cell_type": "code",
   "execution_count": 7,
   "metadata": {},
   "outputs": [],
   "source": [
    "test_result[\"extract_keyword\"] = extractor.extract_keyword(test_df)\n",
    "\n",
    "test_result[\"_calc_cosine_similarity\"] = extractor._calc_cosine_similarity(\n",
    "    test_result[\"create_doc_embeddings\"], test_result[\"create_keyword_embedding\"]\n",
    ")\n",
    "\n",
    "test_result[\"_filter_top_n_keyword\"] = extractor._filter_top_n_keyword(\n",
    "    test_result[\"extract_keyword_list\"], test_result[\"_calc_cosine_similarity\"].flatten()\n",
    ")\n"
   ]
  },
  {
   "cell_type": "code",
   "execution_count": 8,
   "metadata": {},
   "outputs": [
    {
     "data": {
      "text/plain": [
       "{'isbn13': '9791127459321',\n",
       " 'keywords': ['머신러닝',\n",
       "  '템플릿',\n",
       "  'sqlalchemy',\n",
       "  '과정',\n",
       "  '플라스크',\n",
       "  'api',\n",
       "  '라우팅',\n",
       "  '도커',\n",
       "  'pytest',\n",
       "  'config',\n",
       "  '파이썬',\n",
       "  '알고리즘',\n",
       "  '코드',\n",
       "  '로지스틱',\n",
       "  '실행',\n",
       "  '삭제',\n",
       "  '준비',\n",
       "  'uri',\n",
       "  '하기',\n",
       "  '조작']}"
      ]
     },
     "execution_count": 8,
     "metadata": {},
     "output_type": "execute_result"
    }
   ],
   "source": [
    "test_result[\"extract_keyword\"]"
   ]
  },
  {
   "cell_type": "code",
   "execution_count": 9,
   "metadata": {},
   "outputs": [
    {
     "name": "stdout",
     "output_type": "stream",
     "text": [
      "Done writing list into a binary file\n"
     ]
    }
   ],
   "source": [
    "import pickle\n",
    "\n",
    "\n",
    "def write_pkl(item: str, dir: str = None):\n",
    "    # store list in binary file so 'wb' mode\n",
    "    with open(f\"{dir}\", \"wb\") as fp:\n",
    "        pickle.dump(item, fp)\n",
    "        print(\"Done writing list into a binary file\")\n",
    "\n",
    "\n",
    "write_pkl(item=test_result, dir=\"modeling_test_result\")\n"
   ]
  }
 ],
 "metadata": {
  "kernelspec": {
   "display_name": "Python 3",
   "language": "python",
   "name": "python3"
  },
  "language_info": {
   "codemirror_mode": {
    "name": "ipython",
    "version": 3
   },
   "file_extension": ".py",
   "mimetype": "text/x-python",
   "name": "python",
   "nbconvert_exporter": "python",
   "pygments_lexer": "ipython3",
   "version": "3.9.1"
  },
  "orig_nbformat": 4
 },
 "nbformat": 4,
 "nbformat_minor": 2
}
