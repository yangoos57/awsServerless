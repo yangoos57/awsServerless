{
 "cells": [
  {
   "cell_type": "code",
   "execution_count": 4,
   "metadata": {},
   "outputs": [],
   "source": [
    "#pymysql 연결\n",
    "import pymysql\n",
    "import pandas as pd\n",
    "conn=pymysql.connect(host='localhost',port=int(3306),user='root',passwd='',db='dash_test')\n",
    "cursor = conn.cursor(pymysql.cursors.DictCursor)\n",
    "\n"
   ]
  },
  {
   "cell_type": "code",
   "execution_count": 56,
   "metadata": {},
   "outputs": [
    {
     "data": {
      "text/html": [
       "<div>\n",
       "<style scoped>\n",
       "    .dataframe tbody tr th:only-of-type {\n",
       "        vertical-align: middle;\n",
       "    }\n",
       "\n",
       "    .dataframe tbody tr th {\n",
       "        vertical-align: top;\n",
       "    }\n",
       "\n",
       "    .dataframe thead th {\n",
       "        text-align: right;\n",
       "    }\n",
       "</style>\n",
       "<table border=\"1\" class=\"dataframe\">\n",
       "  <thead>\n",
       "    <tr style=\"text-align: right;\">\n",
       "      <th></th>\n",
       "    </tr>\n",
       "  </thead>\n",
       "  <tbody>\n",
       "  </tbody>\n",
       "</table>\n",
       "</div>"
      ],
      "text/plain": [
       "Empty DataFrame\n",
       "Columns: []\n",
       "Index: []"
      ]
     },
     "execution_count": 56,
     "metadata": {},
     "output_type": "execute_result"
    }
   ],
   "source": [
    "cursor.execute('''drop table backend_dodomoabookinfo''')\n",
    "result = cursor.fetchall()\n",
    "libinfo = pd.DataFrame(result)\n",
    "libinfo"
   ]
  },
  {
   "cell_type": "code",
   "execution_count": 57,
   "metadata": {},
   "outputs": [
    {
     "data": {
      "text/html": [
       "<div>\n",
       "<style scoped>\n",
       "    .dataframe tbody tr th:only-of-type {\n",
       "        vertical-align: middle;\n",
       "    }\n",
       "\n",
       "    .dataframe tbody tr th {\n",
       "        vertical-align: top;\n",
       "    }\n",
       "\n",
       "    .dataframe thead th {\n",
       "        text-align: right;\n",
       "    }\n",
       "</style>\n",
       "<table border=\"1\" class=\"dataframe\">\n",
       "  <thead>\n",
       "    <tr style=\"text-align: right;\">\n",
       "      <th></th>\n",
       "    </tr>\n",
       "  </thead>\n",
       "  <tbody>\n",
       "  </tbody>\n",
       "</table>\n",
       "</div>"
      ],
      "text/plain": [
       "Empty DataFrame\n",
       "Columns: []\n",
       "Index: []"
      ]
     },
     "execution_count": 57,
     "metadata": {},
     "output_type": "execute_result"
    }
   ],
   "source": [
    "cursor.execute('''create table backend_dodomoabookinfo (\n",
    "    id INT AUTO_INCREMENT NOT NULL ,\n",
    "    ISBN BIGINT NOT NULL ,\n",
    "    도서명 VARChar(180),\n",
    "    저자 VARChar(240),\n",
    "    출판사 VARChar(50),\n",
    "    주제분류번호 VARChar(20),\n",
    "    등록일자 Date,\n",
    "    이미지주소 VARChar(100),\n",
    "    PRIMARY KEY (id, ISBN)\n",
    ") ENGINE=innoDB''')\n",
    "result = cursor.fetchall()\n",
    "libinfo = pd.DataFrame(result)\n",
    "libinfo"
   ]
  },
  {
   "cell_type": "code",
   "execution_count": null,
   "metadata": {},
   "outputs": [],
   "source": [
    "newdf = pd.read_csv('./data/tempdata.csv',index_col=0)\n",
    "newdff = newdf[['도서명','저자','출판사','ISBN','주제분류번호','등록일자','이미지주소']]\n",
    "\n",
    "newdff['출판사'] = newdff['출판사'].fillna('-')\n",
    "newdff['주제분류번호'] = '00'+ newdff['주제분류번호'].astype(str)"
   ]
  },
  {
   "cell_type": "code",
   "execution_count": 60,
   "metadata": {},
   "outputs": [
    {
     "data": {
      "text/plain": [
       "5281"
      ]
     },
     "execution_count": 60,
     "metadata": {},
     "output_type": "execute_result"
    }
   ],
   "source": [
    "# dodomoa_info = pd.read_csv('./data/keywordExtraction2ForSQL.csv',index_col=0)\n",
    "# backend_dodomoabookinfo = dodomoa_info[['도서명','저자','출판사','ISBN','주제분류번호','등록일자','이미지주소']]\n",
    "\n",
    "# backend_dodomoabookinfo['출판사'] = backend_dodomoabookinfo['출판사'].fillna('-')\n",
    "\n",
    "# newdff = pd.concat([newdff,backend_dodomoabookinfo])\n",
    "\n",
    "# newdff\n",
    "newdff.to_sql(name='backend_dodomoabookinfo', con=db_connection, if_exists='append',index=False)\n"
   ]
  }
 ],
 "metadata": {
  "kernelspec": {
   "display_name": "Python 3.9.1 64-bit",
   "language": "python",
   "name": "python3"
  },
  "language_info": {
   "codemirror_mode": {
    "name": "ipython",
    "version": 3
   },
   "file_extension": ".py",
   "mimetype": "text/x-python",
   "name": "python",
   "nbconvert_exporter": "python",
   "pygments_lexer": "ipython3",
   "version": "3.9.1"
  },
  "orig_nbformat": 4,
  "vscode": {
   "interpreter": {
    "hash": "b2097164ba635ebffc0e3795dc845ae25b57eedf0c1eb5773ded6aee9fc1b279"
   }
  }
 },
 "nbformat": 4,
 "nbformat_minor": 2
}
