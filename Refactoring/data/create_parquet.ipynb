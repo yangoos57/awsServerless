{
 "cells": [
  {
   "cell_type": "code",
   "execution_count": null,
   "metadata": {},
   "outputs": [],
   "source": [
    "import pandas as pd\n",
    "import os\n",
    "\n",
    "files = os.listdir(\"../raw_data\")\n",
    "\n",
    "df_lst = []\n",
    "for num, file_name in enumerate(files):\n",
    "    df = pd.read_excel(f\"../raw_data/{file_name}\", engine=\"openpyxl\")\n",
    "\n",
    "    BM = df[\"주제분류번호\"].str.slice(0, 3)\n",
    "    new_df = df[(BM == \"004\") | (BM == \"005\")]\n",
    "\n",
    "    BM = new_df[\"등록일자\"].str.slice(0, 4)\n",
    "    new_df[BM.astype(int) >= 2018]\n",
    "\n",
    "    new_df[\"도서관\"] = num\n",
    "\n",
    "    df_lst.append(new_df)\n"
   ]
  },
  {
   "cell_type": "code",
   "execution_count": null,
   "metadata": {},
   "outputs": [],
   "source": [
    "modified_data = pd.concat(df_lst)"
   ]
  },
  {
   "cell_type": "code",
   "execution_count": null,
   "metadata": {},
   "outputs": [],
   "source": [
    "BM = modified_data[\"등록일자\"].str.slice(0, 4)\n",
    "modified_data = modified_data[BM.astype(int) >= 2018]\n",
    "\n",
    "modified_data = modified_data.drop(columns=[\"번호\", \"발행년도\", \"세트 ISBN\", \"부가기호\", \"권\", \"도서권수\", \"대출건수\"])\n",
    "modified_data = modified_data.reset_index(drop=True)\n",
    "\n",
    "\n",
    "modified_data.to_parquet(\"raw_data.parquet\")"
   ]
  },
  {
   "cell_type": "code",
   "execution_count": null,
   "metadata": {},
   "outputs": [],
   "source": [
    "files = os.listdir(\"../raw_data\")\n",
    "lib_name = list(map(lambda x: x[8:10], files))\n",
    "lib_name[0] = \"동대문\"\n",
    "lib_name[8] = \"영등포\"\n",
    "lib_name[11] = \"서대문\"\n",
    "\n",
    "lib_dict = dict(zip(range(20), lib_name))\n",
    "lib_books = modified_data[[\"도서관\", \"ISBN\"]]\n",
    "lib_books.loc[:, \"도서관\"] = lib_books[\"도서관\"].replace(lib_dict)\n",
    "\n",
    "\n",
    "lib_books.to_parquet(\"lib_books.parquet\")\n"
   ]
  },
  {
   "cell_type": "code",
   "execution_count": null,
   "metadata": {},
   "outputs": [],
   "source": [
    "book_info = modified_data.drop(columns=\"도서관\")\n",
    "book_info.drop_duplicates(subset=[\"ISBN\"], inplace=True)\n",
    "\n",
    "\n",
    "book_info.to_parquet(\"book_info.parquet\")\n"
   ]
  }
 ],
 "metadata": {
  "kernelspec": {
   "display_name": "Python 3",
   "language": "python",
   "name": "python3"
  },
  "language_info": {
   "codemirror_mode": {
    "name": "ipython",
    "version": 3
   },
   "file_extension": ".py",
   "mimetype": "text/x-python",
   "name": "python",
   "nbconvert_exporter": "python",
   "pygments_lexer": "ipython3",
   "version": "3.9.1"
  },
  "orig_nbformat": 4
 },
 "nbformat": 4,
 "nbformat_minor": 2
}
