{
 "cells": [
  {
   "cell_type": "code",
   "execution_count": 157,
   "metadata": {},
   "outputs": [],
   "source": [
    "import pandas as pd \n",
    "\n",
    "x = pd.read_parquet('test.parquet')\n",
    "y = pd.read_csv('data/preprocess/eng_han.csv')"
   ]
  },
  {
   "cell_type": "code",
   "execution_count": 124,
   "metadata": {},
   "outputs": [],
   "source": [
    "scraping_result = pd.read_parquet('data/update/scraping_result.parquet')"
   ]
  },
  {
   "cell_type": "code",
   "execution_count": 128,
   "metadata": {},
   "outputs": [
    {
     "data": {
      "text/html": [
       "<div>\n",
       "<style scoped>\n",
       "    .dataframe tbody tr th:only-of-type {\n",
       "        vertical-align: middle;\n",
       "    }\n",
       "\n",
       "    .dataframe tbody tr th {\n",
       "        vertical-align: top;\n",
       "    }\n",
       "\n",
       "    .dataframe thead th {\n",
       "        text-align: right;\n",
       "    }\n",
       "</style>\n",
       "<table border=\"1\" class=\"dataframe\">\n",
       "  <thead>\n",
       "    <tr style=\"text-align: right;\">\n",
       "      <th></th>\n",
       "      <th>isbn13</th>\n",
       "      <th>title</th>\n",
       "      <th>toc</th>\n",
       "      <th>intro</th>\n",
       "      <th>publisher</th>\n",
       "    </tr>\n",
       "  </thead>\n",
       "  <tbody>\n",
       "  </tbody>\n",
       "</table>\n",
       "</div>"
      ],
      "text/plain": [
       "Empty DataFrame\n",
       "Columns: [isbn13, title, toc, intro, publisher]\n",
       "Index: []"
      ]
     },
     "execution_count": 128,
     "metadata": {},
     "output_type": "execute_result"
    }
   ],
   "source": [
    "scraping_result.query('title == \"C로 배우는 알고리즘\"')"
   ]
  },
  {
   "cell_type": "code",
   "execution_count": 147,
   "metadata": {},
   "outputs": [
    {
     "data": {
      "text/plain": [
       "isbn13                            9788931701395\n",
       "title                             C로 배우는 알고리즘 1\n",
       "toc          [개요, C언어, 자료구조, 재귀호출, 정렬 알고리즘, 검색]\n",
       "intro                                        []\n",
       "publisher                                    []\n",
       "Name: 3688, dtype: object"
      ]
     },
     "execution_count": 147,
     "metadata": {},
     "output_type": "execute_result"
    }
   ],
   "source": []
  },
  {
   "cell_type": "code",
   "execution_count": 143,
   "metadata": {},
   "outputs": [
    {
     "ename": "KeyError",
     "evalue": "'title'",
     "output_type": "error",
     "traceback": [
      "\u001b[0;31m---------------------------------------------------------------------------\u001b[0m",
      "\u001b[0;31mKeyError\u001b[0m                                  Traceback (most recent call last)",
      "\u001b[1;32m/Users/yangwoolee/git_repo/dodomoa/Refactoring/local/main.ipynb Cell 5\u001b[0m in \u001b[0;36m<cell line: 4>\u001b[0;34m()\u001b[0m\n\u001b[1;32m      <a href='vscode-notebook-cell:/Users/yangwoolee/git_repo/dodomoa/Refactoring/local/main.ipynb#X44sZmlsZQ%3D%3D?line=0'>1</a>\u001b[0m \u001b[39mfrom\u001b[39;00m \u001b[39mtyping\u001b[39;00m \u001b[39mimport\u001b[39;00m Union\n\u001b[1;32m      <a href='vscode-notebook-cell:/Users/yangwoolee/git_repo/dodomoa/Refactoring/local/main.ipynb#X44sZmlsZQ%3D%3D?line=1'>2</a>\u001b[0m a\u001b[39m=\u001b[39mpd\u001b[39m.\u001b[39mDataFrame([\u001b[39m'\u001b[39m\u001b[39mC로 배우는 알고리즘 1 개요 C언어 자료구조 재귀호출 정렬 알고리즘 검색\u001b[39m\u001b[39m'\u001b[39m])\n\u001b[0;32m----> <a href='vscode-notebook-cell:/Users/yangwoolee/git_repo/dodomoa/Refactoring/local/main.ipynb#X44sZmlsZQ%3D%3D?line=3'>4</a>\u001b[0m key\u001b[39m.\u001b[39;49mextract_keyword(a)\n",
      "File \u001b[0;32m~/git_repo/dodomoa/Refactoring/local/components/modeling/key_extraction.py:168\u001b[0m, in \u001b[0;36mkeywordExtractor.extract_keyword\u001b[0;34m(self, docs)\u001b[0m\n\u001b[1;32m    162\u001b[0m keyword_list \u001b[39m=\u001b[39m \u001b[39mmap\u001b[39m(\u001b[39mlambda\u001b[39;00m x: \u001b[39mself\u001b[39m\u001b[39m.\u001b[39mextract_keyword_list(x[\u001b[39m1\u001b[39m]), docs\u001b[39m.\u001b[39miterrows())\n\u001b[1;32m    164\u001b[0m co_sim_score \u001b[39m=\u001b[39m \u001b[39mmap\u001b[39m(\n\u001b[1;32m    165\u001b[0m     \u001b[39mlambda\u001b[39;00m x: \u001b[39mself\u001b[39m\u001b[39m.\u001b[39m_calc_cosine_similarity(\u001b[39m*\u001b[39mx)\u001b[39m.\u001b[39mflatten(),\n\u001b[1;32m    166\u001b[0m     \u001b[39mzip\u001b[39m(doc_embedding, keyword_embedding),\n\u001b[1;32m    167\u001b[0m )\n\u001b[0;32m--> 168\u001b[0m top_n_keyword \u001b[39m=\u001b[39m \u001b[39mlist\u001b[39;49m(\n\u001b[1;32m    169\u001b[0m     \u001b[39mmap\u001b[39;49m(\u001b[39mlambda\u001b[39;49;00m x: \u001b[39mself\u001b[39;49m\u001b[39m.\u001b[39;49m_filter_top_n_keyword(\u001b[39m*\u001b[39;49mx), \u001b[39mzip\u001b[39;49m(keyword_list, co_sim_score))\n\u001b[1;32m    170\u001b[0m )\n\u001b[1;32m    171\u001b[0m \u001b[39mreturn\u001b[39;00m \u001b[39mdict\u001b[39m(isbn13\u001b[39m=\u001b[39mdocs[\u001b[39m\"\u001b[39m\u001b[39misbn13\u001b[39m\u001b[39m\"\u001b[39m]\u001b[39m.\u001b[39mvalues[\u001b[39m0\u001b[39m], keywords\u001b[39m=\u001b[39mtop_n_keyword[\u001b[39m0\u001b[39m])\n",
      "File \u001b[0;32m~/git_repo/dodomoa/Refactoring/local/components/modeling/key_extraction.py:162\u001b[0m, in \u001b[0;36mkeywordExtractor.extract_keyword.<locals>.<lambda>\u001b[0;34m(x)\u001b[0m\n\u001b[1;32m    160\u001b[0m keyword_embedding \u001b[39m=\u001b[39m \u001b[39mmap\u001b[39m(\u001b[39mlambda\u001b[39;00m x: \u001b[39mself\u001b[39m\u001b[39m.\u001b[39mcreate_keyword_embedding(x[\u001b[39m1\u001b[39m]), docs\u001b[39m.\u001b[39miterrows())\n\u001b[1;32m    161\u001b[0m doc_embedding \u001b[39m=\u001b[39m \u001b[39mmap\u001b[39m(\u001b[39mlambda\u001b[39;00m x: \u001b[39mself\u001b[39m\u001b[39m.\u001b[39mcreate_doc_embeddings(x[\u001b[39m1\u001b[39m]), docs\u001b[39m.\u001b[39miterrows())\n\u001b[0;32m--> 162\u001b[0m keyword_list \u001b[39m=\u001b[39m \u001b[39mmap\u001b[39m(\u001b[39mlambda\u001b[39;00m x: \u001b[39mself\u001b[39;49m\u001b[39m.\u001b[39;49mextract_keyword_list(x[\u001b[39m1\u001b[39;49m]), docs\u001b[39m.\u001b[39miterrows())\n\u001b[1;32m    164\u001b[0m co_sim_score \u001b[39m=\u001b[39m \u001b[39mmap\u001b[39m(\n\u001b[1;32m    165\u001b[0m     \u001b[39mlambda\u001b[39;00m x: \u001b[39mself\u001b[39m\u001b[39m.\u001b[39m_calc_cosine_similarity(\u001b[39m*\u001b[39mx)\u001b[39m.\u001b[39mflatten(),\n\u001b[1;32m    166\u001b[0m     \u001b[39mzip\u001b[39m(doc_embedding, keyword_embedding),\n\u001b[1;32m    167\u001b[0m )\n\u001b[1;32m    168\u001b[0m top_n_keyword \u001b[39m=\u001b[39m \u001b[39mlist\u001b[39m(\n\u001b[1;32m    169\u001b[0m     \u001b[39mmap\u001b[39m(\u001b[39mlambda\u001b[39;00m x: \u001b[39mself\u001b[39m\u001b[39m.\u001b[39m_filter_top_n_keyword(\u001b[39m*\u001b[39mx), \u001b[39mzip\u001b[39m(keyword_list, co_sim_score))\n\u001b[1;32m    170\u001b[0m )\n",
      "File \u001b[0;32m~/git_repo/dodomoa/Refactoring/local/components/modeling/key_extraction.py:42\u001b[0m, in \u001b[0;36mkeywordExtractor.extract_keyword_list\u001b[0;34m(self, doc, min_count, min_length)\u001b[0m\n\u001b[1;32m     34\u001b[0m \u001b[39mdef\u001b[39;00m \u001b[39mextract_keyword_list\u001b[39m(\u001b[39mself\u001b[39m, doc: pd\u001b[39m.\u001b[39mSeries, min_count: \u001b[39mint\u001b[39m \u001b[39m=\u001b[39m \u001b[39m3\u001b[39m, min_length: \u001b[39mint\u001b[39m \u001b[39m=\u001b[39m \u001b[39m2\u001b[39m) \u001b[39m-\u001b[39m\u001b[39m>\u001b[39m \u001b[39mlist\u001b[39m:\n\u001b[1;32m     35\u001b[0m     \u001b[39m\"\"\"\u001b[39;00m\n\u001b[1;32m     36\u001b[0m \u001b[39m    series를 list로 전환한다.\u001b[39;00m\n\u001b[1;32m     37\u001b[0m \u001b[39m    명사를 추출한다.\u001b[39;00m\n\u001b[0;32m   (...)\u001b[0m\n\u001b[1;32m     40\u001b[0m \u001b[39m    단어 길이가 min_lengh 이하인 단어를 제거한다.\u001b[39;00m\n\u001b[1;32m     41\u001b[0m \u001b[39m    \"\"\"\u001b[39;00m\n\u001b[0;32m---> 42\u001b[0m     raw_data \u001b[39m=\u001b[39m \u001b[39mself\u001b[39;49m\u001b[39m.\u001b[39;49m_convert_series_to_keyword_list(doc)\n\u001b[1;32m     43\u001b[0m     keyword_list \u001b[39m=\u001b[39m \u001b[39mself\u001b[39m\u001b[39m.\u001b[39m_extract_keywords(raw_data)\n\u001b[1;32m     44\u001b[0m     translated_keyword_list \u001b[39m=\u001b[39m \u001b[39mself\u001b[39m\u001b[39m.\u001b[39m_map_english_to_hangeul(keyword_list)\n",
      "File \u001b[0;32m~/git_repo/dodomoa/Refactoring/local/components/modeling/key_extraction.py:54\u001b[0m, in \u001b[0;36mkeywordExtractor._convert_series_to_keyword_list\u001b[0;34m(self, series)\u001b[0m\n\u001b[1;32m     53\u001b[0m \u001b[39mdef\u001b[39;00m \u001b[39m_convert_series_to_keyword_list\u001b[39m(\u001b[39mself\u001b[39m, series: pd\u001b[39m.\u001b[39mSeries) \u001b[39m-\u001b[39m\u001b[39m>\u001b[39m List[List[\u001b[39mstr\u001b[39m]]:\n\u001b[0;32m---> 54\u001b[0m     book_title \u001b[39m=\u001b[39m series[\u001b[39m\"\u001b[39;49m\u001b[39mtitle\u001b[39;49m\u001b[39m\"\u001b[39;49m]\n\u001b[1;32m     55\u001b[0m     series \u001b[39m=\u001b[39m series\u001b[39m.\u001b[39mdrop([\u001b[39m\"\u001b[39m\u001b[39mtitle\u001b[39m\u001b[39m\"\u001b[39m, \u001b[39m\"\u001b[39m\u001b[39misbn13\u001b[39m\u001b[39m\"\u001b[39m])\n\u001b[1;32m     57\u001b[0m     raw_data \u001b[39m=\u001b[39m [book_title] \u001b[39m+\u001b[39m \u001b[39mlist\u001b[39m(chain(\u001b[39m*\u001b[39mseries\u001b[39m.\u001b[39mvalues))\n",
      "File \u001b[0;32m~/.pyenv/versions/3.9.1/lib/python3.9/site-packages/pandas/core/series.py:958\u001b[0m, in \u001b[0;36mSeries.__getitem__\u001b[0;34m(self, key)\u001b[0m\n\u001b[1;32m    955\u001b[0m     \u001b[39mreturn\u001b[39;00m \u001b[39mself\u001b[39m\u001b[39m.\u001b[39m_values[key]\n\u001b[1;32m    957\u001b[0m \u001b[39melif\u001b[39;00m key_is_scalar:\n\u001b[0;32m--> 958\u001b[0m     \u001b[39mreturn\u001b[39;00m \u001b[39mself\u001b[39;49m\u001b[39m.\u001b[39;49m_get_value(key)\n\u001b[1;32m    960\u001b[0m \u001b[39mif\u001b[39;00m is_hashable(key):\n\u001b[1;32m    961\u001b[0m     \u001b[39m# Otherwise index.get_value will raise InvalidIndexError\u001b[39;00m\n\u001b[1;32m    962\u001b[0m     \u001b[39mtry\u001b[39;00m:\n\u001b[1;32m    963\u001b[0m         \u001b[39m# For labels that don't resolve as scalars like tuples and frozensets\u001b[39;00m\n",
      "File \u001b[0;32m~/.pyenv/versions/3.9.1/lib/python3.9/site-packages/pandas/core/series.py:1069\u001b[0m, in \u001b[0;36mSeries._get_value\u001b[0;34m(self, label, takeable)\u001b[0m\n\u001b[1;32m   1066\u001b[0m     \u001b[39mreturn\u001b[39;00m \u001b[39mself\u001b[39m\u001b[39m.\u001b[39m_values[label]\n\u001b[1;32m   1068\u001b[0m \u001b[39m# Similar to Index.get_value, but we do not fall back to positional\u001b[39;00m\n\u001b[0;32m-> 1069\u001b[0m loc \u001b[39m=\u001b[39m \u001b[39mself\u001b[39;49m\u001b[39m.\u001b[39;49mindex\u001b[39m.\u001b[39;49mget_loc(label)\n\u001b[1;32m   1070\u001b[0m \u001b[39mreturn\u001b[39;00m \u001b[39mself\u001b[39m\u001b[39m.\u001b[39mindex\u001b[39m.\u001b[39m_get_values_for_loc(\u001b[39mself\u001b[39m, loc, label)\n",
      "File \u001b[0;32m~/.pyenv/versions/3.9.1/lib/python3.9/site-packages/pandas/core/indexes/range.py:389\u001b[0m, in \u001b[0;36mRangeIndex.get_loc\u001b[0;34m(self, key, method, tolerance)\u001b[0m\n\u001b[1;32m    387\u001b[0m             \u001b[39mraise\u001b[39;00m \u001b[39mKeyError\u001b[39;00m(key) \u001b[39mfrom\u001b[39;00m \u001b[39merr\u001b[39;00m\n\u001b[1;32m    388\u001b[0m     \u001b[39mself\u001b[39m\u001b[39m.\u001b[39m_check_indexing_error(key)\n\u001b[0;32m--> 389\u001b[0m     \u001b[39mraise\u001b[39;00m \u001b[39mKeyError\u001b[39;00m(key)\n\u001b[1;32m    390\u001b[0m \u001b[39mreturn\u001b[39;00m \u001b[39msuper\u001b[39m()\u001b[39m.\u001b[39mget_loc(key, method\u001b[39m=\u001b[39mmethod, tolerance\u001b[39m=\u001b[39mtolerance)\n",
      "\u001b[0;31mKeyError\u001b[0m: 'title'"
     ]
    }
   ],
   "source": [
    "from typing import Union\n",
    "a=scraping_result[ scraping_result['title'].str.contains('C로 배우는') ].iloc[4]\n",
    "\n",
    "key.extract_keyword(a)"
   ]
  },
  {
   "cell_type": "code",
   "execution_count": 123,
   "metadata": {},
   "outputs": [
    {
     "name": "stderr",
     "output_type": "stream",
     "text": [
      "Process SpawnPoolWorker-37:\n",
      "Process SpawnPoolWorker-34:\n",
      "Process SpawnPoolWorker-35:\n",
      "Process SpawnPoolWorker-33:\n",
      "Process SpawnPoolWorker-38:\n",
      "Process SpawnPoolWorker-40:\n",
      "Process SpawnPoolWorker-36:\n",
      "Process SpawnPoolWorker-39:\n",
      "Traceback (most recent call last):\n",
      "Traceback (most recent call last):\n",
      "  File \"/Users/yangwoolee/.pyenv/versions/3.9.1/lib/python3.9/multiprocessing/process.py\", line 315, in _bootstrap\n",
      "    self.run()\n",
      "  File \"/Users/yangwoolee/.pyenv/versions/3.9.1/lib/python3.9/multiprocessing/process.py\", line 315, in _bootstrap\n",
      "    self.run()\n",
      "  File \"/Users/yangwoolee/.pyenv/versions/3.9.1/lib/python3.9/multiprocessing/process.py\", line 108, in run\n",
      "    self._target(*self._args, **self._kwargs)\n",
      "  File \"/Users/yangwoolee/.pyenv/versions/3.9.1/lib/python3.9/multiprocessing/process.py\", line 108, in run\n",
      "    self._target(*self._args, **self._kwargs)\n",
      "  File \"/Users/yangwoolee/.pyenv/versions/3.9.1/lib/python3.9/multiprocessing/pool.py\", line 114, in worker\n",
      "    task = get()\n",
      "  File \"/Users/yangwoolee/.pyenv/versions/3.9.1/lib/python3.9/multiprocessing/pool.py\", line 114, in worker\n",
      "    task = get()\n",
      "  File \"/Users/yangwoolee/.pyenv/versions/3.9.1/lib/python3.9/multiprocessing/queues.py\", line 365, in get\n",
      "    with self._rlock:\n",
      "  File \"/Users/yangwoolee/.pyenv/versions/3.9.1/lib/python3.9/multiprocessing/queues.py\", line 365, in get\n",
      "    with self._rlock:\n",
      "  File \"/Users/yangwoolee/.pyenv/versions/3.9.1/lib/python3.9/multiprocessing/synchronize.py\", line 95, in __enter__\n",
      "    return self._semlock.__enter__()\n",
      "  File \"/Users/yangwoolee/.pyenv/versions/3.9.1/lib/python3.9/multiprocessing/synchronize.py\", line 95, in __enter__\n",
      "    return self._semlock.__enter__()\n",
      "KeyboardInterrupt\n",
      "KeyboardInterrupt\n",
      "Traceback (most recent call last):\n",
      "Traceback (most recent call last):\n",
      "  File \"/Users/yangwoolee/.pyenv/versions/3.9.1/lib/python3.9/multiprocessing/process.py\", line 315, in _bootstrap\n",
      "    self.run()\n",
      "  File \"/Users/yangwoolee/.pyenv/versions/3.9.1/lib/python3.9/multiprocessing/process.py\", line 108, in run\n",
      "    self._target(*self._args, **self._kwargs)\n",
      "  File \"/Users/yangwoolee/.pyenv/versions/3.9.1/lib/python3.9/multiprocessing/pool.py\", line 114, in worker\n",
      "    task = get()\n",
      "  File \"/Users/yangwoolee/.pyenv/versions/3.9.1/lib/python3.9/multiprocessing/queues.py\", line 366, in get\n",
      "    res = self._reader.recv_bytes()\n",
      "  File \"/Users/yangwoolee/.pyenv/versions/3.9.1/lib/python3.9/multiprocessing/connection.py\", line 221, in recv_bytes\n",
      "    buf = self._recv_bytes(maxlength)\n",
      "  File \"/Users/yangwoolee/.pyenv/versions/3.9.1/lib/python3.9/multiprocessing/connection.py\", line 419, in _recv_bytes\n",
      "    buf = self._recv(4)\n",
      "  File \"/Users/yangwoolee/.pyenv/versions/3.9.1/lib/python3.9/multiprocessing/connection.py\", line 384, in _recv\n",
      "    chunk = read(handle, remaining)\n",
      "KeyboardInterrupt\n",
      "  File \"/Users/yangwoolee/.pyenv/versions/3.9.1/lib/python3.9/multiprocessing/process.py\", line 315, in _bootstrap\n",
      "    self.run()\n",
      "  File \"/Users/yangwoolee/.pyenv/versions/3.9.1/lib/python3.9/multiprocessing/process.py\", line 108, in run\n",
      "    self._target(*self._args, **self._kwargs)\n",
      "  File \"/Users/yangwoolee/.pyenv/versions/3.9.1/lib/python3.9/multiprocessing/pool.py\", line 114, in worker\n",
      "    task = get()\n",
      "  File \"/Users/yangwoolee/.pyenv/versions/3.9.1/lib/python3.9/multiprocessing/queues.py\", line 365, in get\n",
      "    with self._rlock:\n",
      "  File \"/Users/yangwoolee/.pyenv/versions/3.9.1/lib/python3.9/multiprocessing/synchronize.py\", line 95, in __enter__\n",
      "    return self._semlock.__enter__()\n",
      "KeyboardInterrupt\n",
      "Traceback (most recent call last):\n",
      "  File \"/Users/yangwoolee/.pyenv/versions/3.9.1/lib/python3.9/multiprocessing/process.py\", line 315, in _bootstrap\n",
      "    self.run()\n",
      "  File \"/Users/yangwoolee/.pyenv/versions/3.9.1/lib/python3.9/multiprocessing/process.py\", line 108, in run\n",
      "    self._target(*self._args, **self._kwargs)\n",
      "  File \"/Users/yangwoolee/.pyenv/versions/3.9.1/lib/python3.9/multiprocessing/pool.py\", line 114, in worker\n",
      "    task = get()\n",
      "  File \"/Users/yangwoolee/.pyenv/versions/3.9.1/lib/python3.9/multiprocessing/queues.py\", line 365, in get\n",
      "    with self._rlock:\n",
      "  File \"/Users/yangwoolee/.pyenv/versions/3.9.1/lib/python3.9/multiprocessing/synchronize.py\", line 95, in __enter__\n",
      "    return self._semlock.__enter__()\n",
      "KeyboardInterrupt\n",
      "Traceback (most recent call last):\n",
      "  File \"/Users/yangwoolee/.pyenv/versions/3.9.1/lib/python3.9/multiprocessing/process.py\", line 315, in _bootstrap\n",
      "    self.run()\n",
      "  File \"/Users/yangwoolee/.pyenv/versions/3.9.1/lib/python3.9/multiprocessing/process.py\", line 108, in run\n",
      "    self._target(*self._args, **self._kwargs)\n",
      "  File \"/Users/yangwoolee/.pyenv/versions/3.9.1/lib/python3.9/multiprocessing/pool.py\", line 114, in worker\n",
      "    task = get()\n",
      "  File \"/Users/yangwoolee/.pyenv/versions/3.9.1/lib/python3.9/multiprocessing/queues.py\", line 365, in get\n",
      "    with self._rlock:\n",
      "  File \"/Users/yangwoolee/.pyenv/versions/3.9.1/lib/python3.9/multiprocessing/synchronize.py\", line 95, in __enter__\n",
      "    return self._semlock.__enter__()\n",
      "KeyboardInterrupt\n",
      "Traceback (most recent call last):\n",
      "  File \"/Users/yangwoolee/.pyenv/versions/3.9.1/lib/python3.9/multiprocessing/process.py\", line 315, in _bootstrap\n",
      "    self.run()\n",
      "  File \"/Users/yangwoolee/.pyenv/versions/3.9.1/lib/python3.9/multiprocessing/process.py\", line 108, in run\n",
      "    self._target(*self._args, **self._kwargs)\n",
      "  File \"/Users/yangwoolee/.pyenv/versions/3.9.1/lib/python3.9/multiprocessing/pool.py\", line 114, in worker\n",
      "    task = get()\n",
      "  File \"/Users/yangwoolee/.pyenv/versions/3.9.1/lib/python3.9/multiprocessing/queues.py\", line 365, in get\n",
      "    with self._rlock:\n",
      "  File \"/Users/yangwoolee/.pyenv/versions/3.9.1/lib/python3.9/multiprocessing/synchronize.py\", line 95, in __enter__\n",
      "    return self._semlock.__enter__()\n",
      "KeyboardInterrupt\n",
      "Traceback (most recent call last):\n",
      "  File \"/Users/yangwoolee/.pyenv/versions/3.9.1/lib/python3.9/multiprocessing/process.py\", line 315, in _bootstrap\n",
      "    self.run()\n",
      "  File \"/Users/yangwoolee/.pyenv/versions/3.9.1/lib/python3.9/multiprocessing/process.py\", line 108, in run\n",
      "    self._target(*self._args, **self._kwargs)\n",
      "  File \"/Users/yangwoolee/.pyenv/versions/3.9.1/lib/python3.9/multiprocessing/pool.py\", line 114, in worker\n",
      "    task = get()\n",
      "  File \"/Users/yangwoolee/.pyenv/versions/3.9.1/lib/python3.9/multiprocessing/queues.py\", line 365, in get\n",
      "    with self._rlock:\n",
      "  File \"/Users/yangwoolee/.pyenv/versions/3.9.1/lib/python3.9/multiprocessing/synchronize.py\", line 95, in __enter__\n",
      "    return self._semlock.__enter__()\n",
      "KeyboardInterrupt\n"
     ]
    },
    {
     "ename": "KeyboardInterrupt",
     "evalue": "",
     "output_type": "error",
     "traceback": [
      "\u001b[0;31m---------------------------------------------------------------------------\u001b[0m",
      "\u001b[0;31mKeyboardInterrupt\u001b[0m                         Traceback (most recent call last)",
      "\u001b[1;32m/Users/yangwoolee/git_repo/dodomoa/Refactoring/local/main.ipynb Cell 4\u001b[0m in \u001b[0;36m<cell line: 15>\u001b[0;34m()\u001b[0m\n\u001b[1;32m     <a href='vscode-notebook-cell:/Users/yangwoolee/git_repo/dodomoa/Refactoring/local/main.ipynb#X40sZmlsZQ%3D%3D?line=15'>16</a>\u001b[0m result \u001b[39m=\u001b[39m []\n\u001b[1;32m     <a href='vscode-notebook-cell:/Users/yangwoolee/git_repo/dodomoa/Refactoring/local/main.ipynb#X40sZmlsZQ%3D%3D?line=16'>17</a>\u001b[0m multi_pool \u001b[39m=\u001b[39m Pool(processes\u001b[39m=\u001b[39m\u001b[39m8\u001b[39m)\n\u001b[0;32m---> <a href='vscode-notebook-cell:/Users/yangwoolee/git_repo/dodomoa/Refactoring/local/main.ipynb#X40sZmlsZQ%3D%3D?line=17'>18</a>\u001b[0m predictions \u001b[39m=\u001b[39m multi_pool\u001b[39m.\u001b[39;49mmap(extract_keywords_using_electra, input_list)\n\u001b[1;32m     <a href='vscode-notebook-cell:/Users/yangwoolee/git_repo/dodomoa/Refactoring/local/main.ipynb#X40sZmlsZQ%3D%3D?line=18'>19</a>\u001b[0m multi_pool\u001b[39m.\u001b[39mclose()\n\u001b[1;32m     <a href='vscode-notebook-cell:/Users/yangwoolee/git_repo/dodomoa/Refactoring/local/main.ipynb#X40sZmlsZQ%3D%3D?line=19'>20</a>\u001b[0m multi_pool\u001b[39m.\u001b[39mjoin()\n",
      "File \u001b[0;32m~/.pyenv/versions/3.9.1/lib/python3.9/multiprocessing/pool.py:364\u001b[0m, in \u001b[0;36mPool.map\u001b[0;34m(self, func, iterable, chunksize)\u001b[0m\n\u001b[1;32m    359\u001b[0m \u001b[39mdef\u001b[39;00m \u001b[39mmap\u001b[39m(\u001b[39mself\u001b[39m, func, iterable, chunksize\u001b[39m=\u001b[39m\u001b[39mNone\u001b[39;00m):\n\u001b[1;32m    360\u001b[0m     \u001b[39m'''\u001b[39;00m\n\u001b[1;32m    361\u001b[0m \u001b[39m    Apply `func` to each element in `iterable`, collecting the results\u001b[39;00m\n\u001b[1;32m    362\u001b[0m \u001b[39m    in a list that is returned.\u001b[39;00m\n\u001b[1;32m    363\u001b[0m \u001b[39m    '''\u001b[39;00m\n\u001b[0;32m--> 364\u001b[0m     \u001b[39mreturn\u001b[39;00m \u001b[39mself\u001b[39;49m\u001b[39m.\u001b[39;49m_map_async(func, iterable, mapstar, chunksize)\u001b[39m.\u001b[39;49mget()\n",
      "File \u001b[0;32m~/.pyenv/versions/3.9.1/lib/python3.9/multiprocessing/pool.py:765\u001b[0m, in \u001b[0;36mApplyResult.get\u001b[0;34m(self, timeout)\u001b[0m\n\u001b[1;32m    764\u001b[0m \u001b[39mdef\u001b[39;00m \u001b[39mget\u001b[39m(\u001b[39mself\u001b[39m, timeout\u001b[39m=\u001b[39m\u001b[39mNone\u001b[39;00m):\n\u001b[0;32m--> 765\u001b[0m     \u001b[39mself\u001b[39;49m\u001b[39m.\u001b[39;49mwait(timeout)\n\u001b[1;32m    766\u001b[0m     \u001b[39mif\u001b[39;00m \u001b[39mnot\u001b[39;00m \u001b[39mself\u001b[39m\u001b[39m.\u001b[39mready():\n\u001b[1;32m    767\u001b[0m         \u001b[39mraise\u001b[39;00m \u001b[39mTimeoutError\u001b[39;00m\n",
      "File \u001b[0;32m~/.pyenv/versions/3.9.1/lib/python3.9/multiprocessing/pool.py:762\u001b[0m, in \u001b[0;36mApplyResult.wait\u001b[0;34m(self, timeout)\u001b[0m\n\u001b[1;32m    761\u001b[0m \u001b[39mdef\u001b[39;00m \u001b[39mwait\u001b[39m(\u001b[39mself\u001b[39m, timeout\u001b[39m=\u001b[39m\u001b[39mNone\u001b[39;00m):\n\u001b[0;32m--> 762\u001b[0m     \u001b[39mself\u001b[39;49m\u001b[39m.\u001b[39;49m_event\u001b[39m.\u001b[39;49mwait(timeout)\n",
      "File \u001b[0;32m~/.pyenv/versions/3.9.1/lib/python3.9/threading.py:574\u001b[0m, in \u001b[0;36mEvent.wait\u001b[0;34m(self, timeout)\u001b[0m\n\u001b[1;32m    572\u001b[0m signaled \u001b[39m=\u001b[39m \u001b[39mself\u001b[39m\u001b[39m.\u001b[39m_flag\n\u001b[1;32m    573\u001b[0m \u001b[39mif\u001b[39;00m \u001b[39mnot\u001b[39;00m signaled:\n\u001b[0;32m--> 574\u001b[0m     signaled \u001b[39m=\u001b[39m \u001b[39mself\u001b[39;49m\u001b[39m.\u001b[39;49m_cond\u001b[39m.\u001b[39;49mwait(timeout)\n\u001b[1;32m    575\u001b[0m \u001b[39mreturn\u001b[39;00m signaled\n",
      "File \u001b[0;32m~/.pyenv/versions/3.9.1/lib/python3.9/threading.py:312\u001b[0m, in \u001b[0;36mCondition.wait\u001b[0;34m(self, timeout)\u001b[0m\n\u001b[1;32m    310\u001b[0m \u001b[39mtry\u001b[39;00m:    \u001b[39m# restore state no matter what (e.g., KeyboardInterrupt)\u001b[39;00m\n\u001b[1;32m    311\u001b[0m     \u001b[39mif\u001b[39;00m timeout \u001b[39mis\u001b[39;00m \u001b[39mNone\u001b[39;00m:\n\u001b[0;32m--> 312\u001b[0m         waiter\u001b[39m.\u001b[39;49macquire()\n\u001b[1;32m    313\u001b[0m         gotit \u001b[39m=\u001b[39m \u001b[39mTrue\u001b[39;00m\n\u001b[1;32m    314\u001b[0m     \u001b[39melse\u001b[39;00m:\n",
      "\u001b[0;31mKeyboardInterrupt\u001b[0m: "
     ]
    }
   ],
   "source": [
    "from torch.multiprocessing import Pool, Process, set_start_method\n",
    "\n",
    "set_start_method(\"spawn\", force=True)\n",
    "scraping_result = pd.read_parquet('data/update/scraping_result.parquet')\n",
    "\n",
    "def extract_keywords_using_electra(df:pd.DataFrame):\n",
    "    return key.extract_keyword(df)\n",
    "\n",
    "chunk = 10\n",
    "input_list = []\n",
    "for i in range(0, len(scraping_result), chunk):\n",
    "    tasks = scraping_result.iloc[i : i + chunk]\n",
    "    input_list.append(tasks)\n",
    "\n",
    "if __name__ == \"__main__\":\n",
    "    result = []\n",
    "    multi_pool = Pool(processes=8)\n",
    "    predictions = multi_pool.map(extract_keywords_using_electra, input_list)\n",
    "    multi_pool.close()\n",
    "    multi_pool.join()"
   ]
  },
  {
   "cell_type": "code",
   "execution_count": null,
   "metadata": {},
   "outputs": [],
   "source": [
    "from components import scraping, modeling\n",
    "w2v = modeling.W2VTrainer(dir='data/preprocess/eng_han.csv')"
   ]
  }
 ],
 "metadata": {
  "kernelspec": {
   "display_name": "Python 3",
   "language": "python",
   "name": "python3"
  },
  "language_info": {
   "codemirror_mode": {
    "name": "ipython",
    "version": 3
   },
   "file_extension": ".py",
   "mimetype": "text/x-python",
   "name": "python",
   "nbconvert_exporter": "python",
   "pygments_lexer": "ipython3",
   "version": "3.9.1"
  },
  "orig_nbformat": 4
 },
 "nbformat": 4,
 "nbformat_minor": 2
}
