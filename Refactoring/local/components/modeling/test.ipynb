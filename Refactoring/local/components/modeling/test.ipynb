{
 "cells": [
  {
   "cell_type": "code",
   "execution_count": null,
   "metadata": {},
   "outputs": [],
   "source": [
    "import sys\n",
    "sys.path.append('../')\n",
    "\n",
    "from transformers import ElectraModel, ElectraTokenizerFast\n",
    "from modeling import keywordExtractor\n",
    "import pandas as pd\n",
    "\n",
    "model = ElectraModel.from_pretrained(\"monologg/koelectra-base-v3-discriminator\")\n",
    "tokenizer = ElectraTokenizerFast.from_pretrained(\"monologg/koelectra-base-v3-discriminator\")\n",
    "\n",
    "# load data\n",
    "raw_data = pd.read_parquet(\"../../data/book_scraping.parquet\")\n",
    "\n",
    "key = keywordExtractor(model, tokenizer)"
   ]
  },
  {
   "cell_type": "markdown",
   "metadata": {},
   "source": [
    "##### 테스트용"
   ]
  },
  {
   "cell_type": "code",
   "execution_count": null,
   "metadata": {},
   "outputs": [],
   "source": [
    "# raw_data = pd.read_csv(\"../../data/raw_book_info_list.csv\",index_col=0)\n",
    "# from ast import literal_eval\n",
    "# book_info = raw_data.iloc[3]\n",
    "\n",
    "# book_info['book_toc'] = literal_eval(book_info['book_toc'])\n",
    "# book_info['book_intro'] = literal_eval(book_info['book_intro'])\n",
    "# book_info['publisher'] = literal_eval(book_info['publisher'])\n",
    "# book_info['isbn13'] = 1\n",
    "\n",
    "# book_info.index = ['title','toc','intro','publisher','isbn13']\n",
    "# book_info = pd.DataFrame(book_info).T"
   ]
  },
  {
   "cell_type": "code",
   "execution_count": null,
   "metadata": {},
   "outputs": [],
   "source": [
    "# book_info = raw_data.iloc[:1]\n",
    "# keywords = map(lambda x : key.extract_keywords(x[1]),book_info.iterrows())\n",
    "# tokenized_keywords = map(key.tokenize_keywords,keywords)\n",
    "# keywords_embedding = list(map(key.create_keyword_embedding,tokenized_keywords))"
   ]
  },
  {
   "cell_type": "code",
   "execution_count": null,
   "metadata": {},
   "outputs": [],
   "source": [
    "# # book_info = raw_data.iloc[:10]\n",
    "# stringfied_doc = map(lambda x : convert_series_to_str(x[1]),book_info.iterrows())\n",
    "# tokenized_doc = map(key.tokenize_keywords,stringfied_doc)\n",
    "# doc_embedding = list(map(lambda x : sbert(**x)[\"sentence_embedding\"],tokenized_doc))"
   ]
  },
  {
   "cell_type": "code",
   "execution_count": null,
   "metadata": {},
   "outputs": [],
   "source": [
    "from sklearn.metrics.pairwise import cosine_similarity\n",
    "from itertools import islice\n",
    "import numpy as np\n",
    "\n",
    "\n",
    "def _calc_cosine_similarity(doc_embedding:torch.Tensor, keywords_embedding:torch.Tensor) -> np.array:\n",
    "    doc_embedding = doc_embedding.unsqueeze(0).detach()\n",
    "    keywords_embedding = keywords_embedding.detach()\n",
    "\n",
    "    doc_score = list(map(lambda x: cosine_similarity(x, keywords_embedding), doc_embedding))\n",
    "\n",
    "    max_pooling = np.max(doc_score, axis=0)  # Max\n",
    "    return max_pooling\n",
    "\n",
    "\n",
    "def _filter_top_n_keywords(keyword_list:list,co_sim_score:np.array,rank:int=20) -> list :\n",
    "    keywords = dict(zip(keyword_list,co_sim_score))\n",
    "    sorted_keywords = sorted(keywords.items(), key=lambda k: k[1], reverse=True)\n",
    "    return list(dict(islice(sorted_keywords,rank)).keys())\n"
   ]
  },
  {
   "cell_type": "code",
   "execution_count": null,
   "metadata": {},
   "outputs": [],
   "source": []
  },
  {
   "cell_type": "code",
   "execution_count": null,
   "metadata": {},
   "outputs": [],
   "source": [
    "data = raw_data.iloc[:2]\n",
    "\n",
    "def extract_keywords(docs:pd.DataFrame) -> dict:\n",
    "    keywords_embedding = map(lambda x : key.create_keyword_embedding(x[1]),docs.iterrows())\n",
    "    doc_embedding = map(lambda x : key.create_doc_embeddings(x[1]),docs.iterrows())\n",
    "    keyword_list = map(lambda x : key._extract_keywords(x[1]),docs.iterrows())\n",
    "\n",
    "    co_sim_score = map(lambda x : _calc_cosine_similarity(*x).flatten(),zip(doc_embedding,keywords_embedding))\n",
    "    top_n_keywords = list(map(lambda x : _filter_top_n_keywords(*x),zip(keyword_list,co_sim_score)))\n",
    "\n",
    "    return dict(zip(docs['isbn13'].values,top_n_keywords))\n",
    "\n",
    "extract_keywords(data)"
   ]
  },
  {
   "cell_type": "code",
   "execution_count": null,
   "metadata": {},
   "outputs": [],
   "source": [
    "from gensim.models import keyedvectors\n",
    "\n",
    "model = keyedvectors.load_word2vec_format('w2v_old') \n",
    "\n",
    "model.most_similar(positive=['파이선'],topn=20)"
   ]
  },
  {
   "cell_type": "code",
   "execution_count": 1,
   "metadata": {},
   "outputs": [],
   "source": [
    "import pandas as pd\n",
    "from w2v import W2VTrainer\n",
    "from kiwipiepy import Kiwi\n",
    "\n",
    "k = Kiwi()\n",
    "w2v = W2VTrainer()\n",
    "\n",
    "df = pd.read_parquet('../../data/book_scraping.parquet')\n",
    "y = w2v.create_w2v_data(df)"
   ]
  },
  {
   "cell_type": "code",
   "execution_count": 2,
   "metadata": {},
   "outputs": [],
   "source": [
    "from gensim.models import Word2Vec\n",
    "from itertools import chain\n",
    "embedding_model = Word2Vec(sentences=y, window=2, min_count=30, workers=7, sg=1)"
   ]
  },
  {
   "cell_type": "code",
   "execution_count": 13,
   "metadata": {},
   "outputs": [
    {
     "name": "stdout",
     "output_type": "stream",
     "text": [
      "The slowest run took 7.19 times longer than the fastest. This could mean that an intermediate result is being cached.\n",
      "844 µs ± 305 µs per loop (mean ± std. dev. of 7 runs, 1,000 loops each)\n"
     ]
    }
   ],
   "source": [
    "# idx\n",
    "embedding_model.wv.has_index_for('mysql')\n",
    "\n",
    "embedding_model.wv.most_similar(positive=['bert'],topn=20,)"
   ]
  },
  {
   "cell_type": "code",
   "execution_count": 4,
   "metadata": {},
   "outputs": [
    {
     "ename": "KeyError",
     "evalue": "\"Key '파이선' not present in vocabulary\"",
     "output_type": "error",
     "traceback": [
      "\u001b[0;31m---------------------------------------------------------------------------\u001b[0m",
      "\u001b[0;31mKeyError\u001b[0m                                  Traceback (most recent call last)",
      "\u001b[1;32m/Users/yangwoolee/git_repo/dodomoa/Refactoring/local/components/modeling/test.ipynb Cell 13\u001b[0m in \u001b[0;36m<cell line: 1>\u001b[0;34m()\u001b[0m\n\u001b[0;32m----> <a href='vscode-notebook-cell:/Users/yangwoolee/git_repo/dodomoa/Refactoring/local/components/modeling/test.ipynb#X52sZmlsZQ%3D%3D?line=0'>1</a>\u001b[0m embedding_model\u001b[39m.\u001b[39;49mwv\u001b[39m.\u001b[39;49mmost_similar(positive\u001b[39m=\u001b[39;49m[\u001b[39m'\u001b[39;49m\u001b[39m파이선\u001b[39;49m\u001b[39m'\u001b[39;49m],topn\u001b[39m=\u001b[39;49m\u001b[39m20\u001b[39;49m)\n",
      "File \u001b[0;32m~/.pyenv/versions/3.9.1/lib/python3.9/site-packages/gensim/models/keyedvectors.py:841\u001b[0m, in \u001b[0;36mKeyedVectors.most_similar\u001b[0;34m(self, positive, negative, topn, clip_start, clip_end, restrict_vocab, indexer)\u001b[0m\n\u001b[1;32m    838\u001b[0m         weight[idx] \u001b[39m=\u001b[39m item[\u001b[39m1\u001b[39m]\n\u001b[1;32m    840\u001b[0m \u001b[39m# compute the weighted average of all keys\u001b[39;00m\n\u001b[0;32m--> 841\u001b[0m mean \u001b[39m=\u001b[39m \u001b[39mself\u001b[39;49m\u001b[39m.\u001b[39;49mget_mean_vector(keys, weight, pre_normalize\u001b[39m=\u001b[39;49m\u001b[39mTrue\u001b[39;49;00m, post_normalize\u001b[39m=\u001b[39;49m\u001b[39mTrue\u001b[39;49;00m, ignore_missing\u001b[39m=\u001b[39;49m\u001b[39mFalse\u001b[39;49;00m)\n\u001b[1;32m    842\u001b[0m all_keys \u001b[39m=\u001b[39m [\n\u001b[1;32m    843\u001b[0m     \u001b[39mself\u001b[39m\u001b[39m.\u001b[39mget_index(key) \u001b[39mfor\u001b[39;00m key \u001b[39min\u001b[39;00m keys \u001b[39mif\u001b[39;00m \u001b[39misinstance\u001b[39m(key, _KEY_TYPES) \u001b[39mand\u001b[39;00m \u001b[39mself\u001b[39m\u001b[39m.\u001b[39mhas_index_for(key)\n\u001b[1;32m    844\u001b[0m ]\n\u001b[1;32m    846\u001b[0m \u001b[39mif\u001b[39;00m indexer \u001b[39mis\u001b[39;00m \u001b[39mnot\u001b[39;00m \u001b[39mNone\u001b[39;00m \u001b[39mand\u001b[39;00m \u001b[39misinstance\u001b[39m(topn, \u001b[39mint\u001b[39m):\n",
      "File \u001b[0;32m~/.pyenv/versions/3.9.1/lib/python3.9/site-packages/gensim/models/keyedvectors.py:518\u001b[0m, in \u001b[0;36mKeyedVectors.get_mean_vector\u001b[0;34m(self, keys, weights, pre_normalize, post_normalize, ignore_missing)\u001b[0m\n\u001b[1;32m    516\u001b[0m         total_weight \u001b[39m+\u001b[39m\u001b[39m=\u001b[39m \u001b[39mabs\u001b[39m(weights[idx])\n\u001b[1;32m    517\u001b[0m     \u001b[39melif\u001b[39;00m \u001b[39mnot\u001b[39;00m ignore_missing:\n\u001b[0;32m--> 518\u001b[0m         \u001b[39mraise\u001b[39;00m \u001b[39mKeyError\u001b[39;00m(\u001b[39mf\u001b[39m\u001b[39m\"\u001b[39m\u001b[39mKey \u001b[39m\u001b[39m'\u001b[39m\u001b[39m{\u001b[39;00mkey\u001b[39m}\u001b[39;00m\u001b[39m'\u001b[39m\u001b[39m not present in vocabulary\u001b[39m\u001b[39m\"\u001b[39m)\n\u001b[1;32m    520\u001b[0m \u001b[39mif\u001b[39;00m total_weight \u001b[39m>\u001b[39m \u001b[39m0\u001b[39m:\n\u001b[1;32m    521\u001b[0m     mean \u001b[39m=\u001b[39m mean \u001b[39m/\u001b[39m total_weight\n",
      "\u001b[0;31mKeyError\u001b[0m: \"Key '파이선' not present in vocabulary\""
     ]
    }
   ],
   "source": [
    "embedding_model.wv.most_similar(positive=['파이선'],topn=20)"
   ]
  },
  {
   "cell_type": "markdown",
   "metadata": {},
   "source": [
    "### 시작"
   ]
  },
  {
   "cell_type": "code",
   "execution_count": null,
   "metadata": {},
   "outputs": [],
   "source": [
    "# from collections import Counter\n",
    "\n",
    "# Counter(\n",
    "#     list(\n",
    "#         chain(\n",
    "#             *map(\n",
    "#                 lambda x: x.split(\" \"),\n",
    "#                 (\n",
    "#                     chain(\n",
    "#                         df.query('isbn13 == \"9791127459321\"')\n",
    "#                         .iloc[0]\n",
    "#                         .drop([\"title\", \"isbn13\"])\n",
    "#                         .values[0]\n",
    "#                     )\n",
    "#                 ),\n",
    "#             )\n",
    "#         )\n",
    "#     )\n",
    "# )\n"
   ]
  },
  {
   "cell_type": "code",
   "execution_count": null,
   "metadata": {},
   "outputs": [],
   "source": [
    "series = df.iloc[0]\n",
    "# series = df.query('isbn13 == \"9791127459321\"').iloc[0]\n",
    "extract_keyword_list(series)"
   ]
  },
  {
   "cell_type": "code",
   "execution_count": null,
   "metadata": {},
   "outputs": [],
   "source": [
    "from collections import Counter\n",
    "from typing import Iterable,List\n",
    "\n",
    "noun_extractor = Kiwi(model_type=\"knlm\")\n",
    "dir = '../../data/preprocess/eng_han.csv'\n",
    "def extract_keyword_list(doc: pd.Series, min_count: int = 3, min_length: int = 2) -> list:\n",
    "    raw_data = _convert_series_to_keyword_list(doc)\n",
    "    keyword_list = _extract_keywords(raw_data)\n",
    "    translated_keyword_list = _map_english_to_hangeul(keyword_list)\n",
    "    refined_keyword_list = _eliminate_min_words(translated_keyword_list,min_count)\n",
    "    return list(filter(lambda x: len(x) >= min_length, refined_keyword_list))\n",
    "\n",
    "def convert_series_to_str( series: pd.Series) -> str:\n",
    "    book_title = series[\"title\"]\n",
    "    series = series.drop([\"title\", \"isbn13\"])\n",
    "    return book_title + \" \" + \" \".join(list(chain(*series.values)))\n",
    "\n",
    "\n",
    "def _convert_series_to_keyword_list(series: pd.Series) -> List[List[str]]:\n",
    "    book_title = series[\"title\"]\n",
    "    series = series.drop([\"title\", \"isbn13\"])\n",
    "\n",
    "    raw_data = [book_title] + list(chain(*series.values))\n",
    "    return list(chain(*map(lambda x: x.split(), raw_data)))\n",
    "\n",
    "\n",
    "def _extract_keywords(words: List[str]) -> List[List[str]]:\n",
    "    tokenized_words = noun_extractor.tokenize(\" \".join(words)) \n",
    "    return [word.form for word in tokenized_words if word.tag in (\"NNG\", \"NNP\",\"SL\")]\n",
    "\n",
    "\n",
    "def _map_english_to_hangeul(word_list: list[str]) -> list[str]:\n",
    "    eng_han_df = pd.read_csv(dir).dropna()\n",
    "    eng_han_dict = dict(eng_han_df.values)\n",
    "\n",
    "    def map_eng_to_han(word: str, eng_han_dict: dict) -> str:\n",
    "        han_word = eng_han_dict.get(word)\n",
    "        return han_word if han_word else word\n",
    "\n",
    "    return list(map(lambda x: map_eng_to_han(x.lower(), eng_han_dict), word_list))\n",
    "\n",
    "def _eliminate_min_words(candidate_keyword, min_count:int =3) :\n",
    "    refined_han_words = filter(lambda x: x[1] >= min_count, Counter(candidate_keyword).items())\n",
    "    return list(map(lambda x : x[0],refined_han_words))\n",
    "\n"
   ]
  },
  {
   "cell_type": "code",
   "execution_count": null,
   "metadata": {},
   "outputs": [],
   "source": [
    "import pandas as pd\n",
    "df = pd.read_parquet('../../data/book_scraping.parquet')\n",
    "series = df.iloc[:2]\n",
    "print(create_w2v_data(series))"
   ]
  },
  {
   "cell_type": "code",
   "execution_count": null,
   "metadata": {},
   "outputs": [],
   "source": [
    "from kiwipiepy import Kiwi\n",
    "from typing import List, Iterable\n",
    "from itertools import chain\n",
    "\n",
    "noun_extractor = Kiwi(model_type=\"knlm\")\n",
    "dir = \"../../data/preprocess/eng_han.csv\"\n",
    "\n",
    "\n",
    "def create_w2v_data(df: pd.DataFrame, min_length: int = 2) -> list[list]:\n",
    "    keyword_list = list(map(lambda x: _convert_series_to_str(x[1]), df.iterrows()))\n",
    "    noun_only_data = _extract_w2v_data(keyword_list)\n",
    "    w2v_data = list(map(_map_english_to_hangeul, noun_only_data))\n",
    "    refined_w2v_data = list(map(lambda x: _eliminate_min_length_word(x, min_length), w2v_data))\n",
    "    return refined_w2v_data\n",
    "\n",
    "\n",
    "def _convert_series_to_str(series: pd.Series) -> str:\n",
    "    book_title = series[\"title\"]\n",
    "    series = series.drop([\"title\", \"isbn13\"])\n",
    "    return book_title + \" \" + \" \".join(list(chain(*series.values)))\n",
    "\n",
    "\n",
    "def _extract_w2v_data(words: Iterable[str]) -> List[List[str]]:\n",
    "    tokenized_words = noun_extractor.tokenize(words)\n",
    "    result = []\n",
    "    for lst in tokenized_words:\n",
    "        words = [word.form for word in lst if word.tag in (\"NNG\", \"NNP\", \"SL\")]\n",
    "        result.append(words)\n",
    "    return result\n",
    "\n",
    "\n",
    "def _map_english_to_hangeul(word_list: List[str]) -> list[str]:\n",
    "    eng_han_df = pd.read_csv(dir).dropna()\n",
    "    eng_han_dict = dict(eng_han_df.values)\n",
    "\n",
    "    def _map_eng_to_han(word: str, eng_han_dict: dict) -> str:\n",
    "        han_word = eng_han_dict.get(word)\n",
    "        return han_word if han_word else word\n",
    "\n",
    "    return list(map(lambda x: _map_eng_to_han(x.lower(), eng_han_dict), word_list))\n",
    "\n",
    "\n",
    "def _eliminate_min_length_word(w2v_data, min_length: int = 2) -> List[str]:\n",
    "    return list(filter(lambda x: len(x) >= min_length, w2v_data))\n"
   ]
  },
  {
   "cell_type": "code",
   "execution_count": null,
   "metadata": {},
   "outputs": [],
   "source": [
    "from kiwipiepy import Kiwi\n",
    "from typing import List, Iterable\n",
    "from itertools import chain\n",
    "\n",
    "noun_extractor = Kiwi(model_type=\"knlm\")\n",
    "dir = \"../../data/preprocess/eng_han.csv\"\n",
    "\n",
    "\n",
    "def create_w2v_data(self, df: pd.DataFrame,min_length:int=2) -> list[list]:\n",
    "    keyword_list = list(map(lambda x: _convert_series_to_str(x[1]), df.iterrows()))\n",
    "    noun_only_data = _extract_w2v_data(keyword_list)\n",
    "    w2v_data = list(map(_map_english_to_hangeul, noun_only_data))\n",
    "    return list(filter(lambda x: len(x) >= min_length, w2v_data))\n",
    "\n",
    "\n",
    "def _convert_series_to_str(self, series: pd.Series) -> str:\n",
    "    book_title = series[\"title\"]\n",
    "    series = series.drop([\"title\", \"isbn13\"])\n",
    "    return book_title + \" \" + \" \".join(list(chain(*series.values)))\n",
    "\n",
    "\n",
    "def _extract_w2v_data(self, words: Iterable[str]) -> List[List[str]]:\n",
    "    tokenized_words = self.noun_extractor.tokenize(words)\n",
    "    result = []\n",
    "    for lst in tokenized_words:\n",
    "        words = [word.form for word in lst if word.tag in (\"NNG\", \"NNP\", \"SL\")]\n",
    "        result.append(words)\n",
    "    return result\n",
    "\n",
    "\n",
    "def _map_english_to_hangeul(self, word_list: List[str]) -> list[str]:\n",
    "    eng_han_df = pd.read_csv(self.dir).dropna()\n",
    "    eng_han_dict = dict(eng_han_df.values)\n",
    "\n",
    "    def _map_eng_to_han(word: str, eng_han_dict: dict) -> str:\n",
    "        han_word = eng_han_dict.get(word)\n",
    "        return han_word if han_word else word\n",
    "\n",
    "    return list(map(lambda x: _map_eng_to_han(x.lower(), eng_han_dict), word_list))\n"
   ]
  }
 ],
 "metadata": {
  "kernelspec": {
   "display_name": "Python 3",
   "language": "python",
   "name": "python3"
  },
  "language_info": {
   "codemirror_mode": {
    "name": "ipython",
    "version": 3
   },
   "file_extension": ".py",
   "mimetype": "text/x-python",
   "name": "python",
   "nbconvert_exporter": "python",
   "pygments_lexer": "ipython3",
   "version": "3.9.1"
  },
  "orig_nbformat": 4
 },
 "nbformat": 4,
 "nbformat_minor": 2
}
