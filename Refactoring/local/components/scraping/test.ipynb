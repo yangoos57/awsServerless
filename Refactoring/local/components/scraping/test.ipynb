{
 "cells": [
  {
   "attachments": {},
   "cell_type": "markdown",
   "metadata": {},
   "source": [
    "### kyobo test\n"
   ]
  },
  {
   "cell_type": "code",
   "execution_count": 1,
   "metadata": {},
   "outputs": [],
   "source": [
    "from concurrent.futures import ProcessPoolExecutor\n",
    "from scraping import scrap_book_info\n",
    "import asyncio\n",
    "import pandas as pd\n",
    "\n",
    "# 없는 경우 9791188174287\n",
    "\n",
    "df = pd.read_parquet(\"../../App/db/data/book_info.parquet\")\n",
    "\n",
    "isbns = df[\"ISBN\"].tolist()[:20]\n",
    "\n",
    "chunk = 100\n",
    "answer = []\n",
    "\n",
    "async def scraping(task) -> map : \n",
    "     return await asyncio.run(task)\n",
    "\n",
    "for i in range(0, len(isbns), chunk):\n",
    "        chunk_isbns = isbns[i : i + chunk]\n",
    "        tasks = [scrap_book_info(isbn) for isbn in chunk_isbns]\n",
    "        with ProcessPoolExecutor() as executor:\n",
    "            results: map = executor.map(scraping,tasks)\n",
    "            answer.append(results)\n",
    "\n",
    "        if i % 300 == 0 and i != 0:\n",
    "            print(f\"{round(i/len(isbns),3)*100}\")\n"
   ]
  },
  {
   "cell_type": "code",
   "execution_count": null,
   "metadata": {},
   "outputs": [],
   "source": [
    "# import requests\n",
    "# from bs4 import BeautifulSoup\n",
    "# # while True :\n",
    "# ISBN = df.ISBN.sample(1)\n",
    "# ISBN = ISBN.tolist()[0]\n",
    "# libUrl = f\"http://www.kyobobook.co.kr/product/detailViewKor.laf?ejkGb=KOR&mallGb=KOR&barcode={ISBN}\"\n",
    "# soup = BeautifulSoup(requests.get(libUrl,timeout=200).content,'html.parser')\n",
    "# print(ISBN)\n",
    "# soup.find(class_=\"prod_title\").string\n"
   ]
  },
  {
   "attachments": {},
   "cell_type": "markdown",
   "metadata": {},
   "source": [
    "### lib api test\n"
   ]
  },
  {
   "cell_type": "code",
   "execution_count": null,
   "metadata": {},
   "outputs": [],
   "source": [
    "from scraping import update_book_data\n",
    "import asyncio\n",
    "from datetime import date\n",
    "\n",
    "lib_codes = [\n",
    "    111003,\n",
    "    111004,\n",
    "    111005,\n",
    "    111006,\n",
    "    111007,\n",
    "    111008,\n",
    "    111009,\n",
    "    111010,\n",
    "    111022,\n",
    "    111011,\n",
    "    111012,\n",
    "    111013,\n",
    "    111014,\n",
    "    111016,\n",
    "    111030,\n",
    "    111015,\n",
    "    111018,\n",
    "    111019,\n",
    "    111020,\n",
    "    111021,\n",
    "]\n",
    "\n",
    "chunk = 10\n",
    "answer = []\n",
    "for i in range(0, len(lib_codes), chunk):\n",
    "    chunk_lib_codes = lib_codes[i : i + chunk]\n",
    "    tasks = [update_book_data(i, start_date=date(2020, 1, 1)) for i in chunk_lib_codes]\n",
    "    results = await asyncio.gather(*tasks)\n",
    "    answer.extend(results)\n"
   ]
  },
  {
   "cell_type": "code",
   "execution_count": null,
   "metadata": {},
   "outputs": [],
   "source": [
    "# from datetime import datetime,timedelta\n",
    "# from dateutil.relativedelta import relativedelta\n",
    "# import requests\n",
    "# lib_code = 111016\n",
    "# auth_key = \"7123eacb2744a02faca2508a82304c3bf154bf0b285da35c2faa2b8498b09872\"\n",
    "# end_date = datetime.now().date().replace(day=1) - timedelta(days=1)\n",
    "# # start_date = end_date - relativedelta(months=1)\n",
    "# start_date=date(2023, 1, 1)\n",
    "\n",
    "# libUrl = f\"http://data4library.kr/api/itemSrch?libCode={lib_code}&startDt={start_date}&endDt={end_date}&authKey={auth_key}&pageSize=10000&format=json\"\n",
    "\n",
    "# aaa = requests.get(libUrl,timeout=200)\n",
    "\n",
    "# aaaa = aaa.json()\n",
    "# all_books_info = map(lambda x: x[\"doc\"], aaaa[\"response\"][\"docs\"])b\n"
   ]
  }
 ],
 "metadata": {
  "kernelspec": {
   "display_name": "Python 3",
   "language": "python",
   "name": "python3"
  },
  "language_info": {
   "codemirror_mode": {
    "name": "ipython",
    "version": 3
   },
   "file_extension": ".py",
   "mimetype": "text/x-python",
   "name": "python",
   "nbconvert_exporter": "python",
   "pygments_lexer": "ipython3",
   "version": "3.9.1"
  },
  "orig_nbformat": 4
 },
 "nbformat": 4,
 "nbformat_minor": 2
}
