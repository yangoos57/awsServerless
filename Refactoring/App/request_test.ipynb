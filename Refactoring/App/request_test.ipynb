{
 "cells": [
  {
   "cell_type": "markdown",
   "metadata": {},
   "source": [
    "### Request Predictions"
   ]
  },
  {
   "cell_type": "code",
   "execution_count": 2,
   "metadata": {},
   "outputs": [],
   "source": [
    "import requests\n",
    "import pandas as pd "
   ]
  },
  {
   "cell_type": "code",
   "execution_count": 34,
   "metadata": {},
   "outputs": [],
   "source": [
    "payloads = dict(user_search=['딥러닝'],selected_lib=['양천','강서'])\n",
    "resp =requests.post(\"http://localhost:8000/predict\", json=payloads)\n"
   ]
  },
  {
   "cell_type": "code",
   "execution_count": 130,
   "metadata": {},
   "outputs": [],
   "source": [
    "data = pd.read_parquet('db/data/update/book_info.parquet')\n",
    "payloads = data.iloc[:3].to_dict('list')\n",
    "# payloads = dict(user_search=['파이썬'])\n",
    "resp =requests.post(\"http://localhost:8000/update/book-info\", json=payloads)"
   ]
  },
  {
   "cell_type": "code",
   "execution_count": 131,
   "metadata": {},
   "outputs": [
    {
     "data": {
      "text/plain": [
       "'{\"h\":\"h\"}'"
      ]
     },
     "execution_count": 131,
     "metadata": {},
     "output_type": "execute_result"
    }
   ],
   "source": [
    "\n",
    "data = pd.read_parquet('db/data/lib_books.parquet') \n",
    "payloads = data.iloc[:3].to_dict('list')\n",
    "# payloads = dict(user_search=['파이썬'])\n",
    "resp =requests.post(\"http://localhost:8000/update/lib-books\", json=payloads)\n",
    "\n",
    "resp.text"
   ]
  }
 ],
 "metadata": {
  "kernelspec": {
   "display_name": "Python 3",
   "language": "python",
   "name": "python3"
  },
  "language_info": {
   "codemirror_mode": {
    "name": "ipython",
    "version": 3
   },
   "file_extension": ".py",
   "mimetype": "text/x-python",
   "name": "python",
   "nbconvert_exporter": "python",
   "pygments_lexer": "ipython3",
   "version": "3.9.1"
  },
  "orig_nbformat": 4,
  "vscode": {
   "interpreter": {
    "hash": "b2097164ba635ebffc0e3795dc845ae25b57eedf0c1eb5773ded6aee9fc1b279"
   }
  }
 },
 "nbformat": 4,
 "nbformat_minor": 2
}
