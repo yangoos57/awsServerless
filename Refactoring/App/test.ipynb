{
 "cells": [
  {
   "cell_type": "markdown",
   "metadata": {},
   "source": []
  },
  {
   "cell_type": "code",
   "execution_count": 1,
   "metadata": {},
   "outputs": [],
   "source": [
    "from datetime import timedelta, datetime"
   ]
  },
  {
   "cell_type": "code",
   "execution_count": 2,
   "metadata": {},
   "outputs": [
    {
     "name": "stdout",
     "output_type": "stream",
     "text": [
      "2023-03-01 2023-02-28 2023-02-01\n"
     ]
    }
   ],
   "source": [
    "day = datetime.now().date()\n",
    "\n",
    "# 해당 달의 첫째날 구하기 => 7월\n",
    "first_day = day.replace(day=1)\n",
    "\n",
    "# 전달의 마지막 날 구하기 => 6월 30일\n",
    "dayLast = first_day - timedelta(days=1)\n",
    "\n",
    "# 전달의 첫째 날 구하기 => 6월 1일\n",
    "dayStart = dayLast.replace(day=1)\n",
    "\n",
    "print(first_day, dayLast,dayStart)"
   ]
  },
  {
   "cell_type": "code",
   "execution_count": 3,
   "metadata": {},
   "outputs": [],
   "source": [
    "import requests\n",
    "from datetime import timedelta, datetime\n",
    "\n",
    "\n",
    "date_now = datetime.now().date()  # 23.3.3\n",
    "\n",
    "end_date = date_now.replace(day=1) - timedelta(days=1)  # 23.2.28\n",
    "\n",
    "start_date = dayLast.replace(day=1)  # 23.2.1.\n",
    "auth_key = \"7123eacb2744a02faca2508a82304c3bf154bf0b285da35c2faa2b8498b09872\"\n",
    "# print(dayStart, \" - \", dayLast)\n",
    "libUrl = f\"http://data4library.kr/api/itemSrch?libCode={111015}&startDt={start_date}&endDt={end_date}&authKey={auth_key}&pageSize=10000&format=json\"\n",
    "\n",
    "libHtml = requests.get(libUrl)\n"
   ]
  },
  {
   "cell_type": "code",
   "execution_count": 4,
   "metadata": {},
   "outputs": [],
   "source": [
    "data = libHtml.json()\n",
    "data = map(lambda x: x['doc'],data['response']['docs'])\n"
   ]
  },
  {
   "cell_type": "code",
   "execution_count": 5,
   "metadata": {},
   "outputs": [],
   "source": []
  },
  {
   "cell_type": "code",
   "execution_count": 6,
   "metadata": {},
   "outputs": [],
   "source": [
    "def check_class_num(class_num) :\n",
    "    '''\n",
    "    004 = 전산학\n",
    "    005 = 프로그래밍, 프로그램, 데이터\n",
    "    '''\n",
    "    num = class_num['class_no'][:3]\n",
    "    return num == '004' or num == '005'\n",
    "\n",
    "data_test = filter(check_class_num,data)"
   ]
  },
  {
   "cell_type": "code",
   "execution_count": 53,
   "metadata": {},
   "outputs": [
    {
     "data": {
      "text/plain": [
       "{'bookname': '파이썬 데이터 과학 통계 학습 =Python data science statistical learning ',\n",
       " 'authors': '황본현우,정지현 지음',\n",
       " 'publisher': '정보문화사',\n",
       " 'publication_year': '2021',\n",
       " 'isbn13': '9788956749075',\n",
       " 'set_isbn13': '',\n",
       " 'bookImageURL': 'https://image.aladin.co.kr/product/27224/92/cover/8956749078_1.jpg',\n",
       " 'addition_symbol': '1',\n",
       " 'vol': '',\n",
       " 'class_no': '005.133',\n",
       " 'class_nm': '총류 > 총류 > 프로그래밍, 프로그램, 데이터',\n",
       " 'callNumbers': [{'callNumber': {'separate_shelf_code': '',\n",
       "    'separate_shelf_name': '적용안함',\n",
       "    'book_code': 'ㅎ747ㅍ',\n",
       "    'shelf_loc_code': 'N01',\n",
       "    'shelf_loc_name': '[양천]책누리실(2층)',\n",
       "    'copy_code': ''}}],\n",
       " 'reg_date': '2023-02-27'}"
      ]
     },
     "execution_count": 53,
     "metadata": {},
     "output_type": "execute_result"
    }
   ],
   "source": [
    "next(data_test)"
   ]
  },
  {
   "cell_type": "code",
   "execution_count": 54,
   "metadata": {},
   "outputs": [],
   "source": [
    "def select_keys(item: dict):\n",
    "    keys = [\"isbn13\", \"bookname\", \"authors\", \"publisher\", \"class_no\", \"reg_date\", \"bookImageURL\"]\n",
    "    selected_item = dict((k, item[k]) for k in keys)\n",
    "\n",
    "    selected_item[\"book_code\"] = item[\"callNumbers\"][0][\"callNumber\"][\"book_code\"]\n",
    "    return selected_item\n",
    "\n",
    "x = map(select_keys,data_test)\n",
    "\n",
    "\n"
   ]
  },
  {
   "cell_type": "code",
   "execution_count": 56,
   "metadata": {},
   "outputs": [],
   "source": [
    "date_now = datetime.now().date()"
   ]
  },
  {
   "cell_type": "code",
   "execution_count": 75,
   "metadata": {},
   "outputs": [
    {
     "data": {
      "text/plain": [
       "datetime.date(2023, 3, 9)"
      ]
     },
     "execution_count": 75,
     "metadata": {},
     "output_type": "execute_result"
    }
   ],
   "source": [
    "date_now"
   ]
  },
  {
   "cell_type": "code",
   "execution_count": 90,
   "metadata": {},
   "outputs": [
    {
     "data": {
      "text/plain": [
       "datetime.date(2023, 2, 9)"
      ]
     },
     "execution_count": 90,
     "metadata": {},
     "output_type": "execute_result"
    }
   ],
   "source": [
    "from dateutil.relativedelta import relativedelta\n",
    "\n",
    "\n",
    "future_date = date_now - relativedelta(months=1)\n",
    "\n",
    "future_date"
   ]
  },
  {
   "cell_type": "code",
   "execution_count": 55,
   "metadata": {},
   "outputs": [
    {
     "data": {
      "text/plain": [
       "{'isbn13': '9791140702473',\n",
       " 'bookname': '부모님을 위한 컴퓨터 무작정 따라하기',\n",
       " 'authors': '곽은지 지음',\n",
       " 'publisher': '길벗',\n",
       " 'class_no': '004',\n",
       " 'reg_date': '2023-02-23',\n",
       " 'bookImageURL': 'https://image.aladin.co.kr/product/30788/81/cover/k382831366_1.jpg',\n",
       " 'book_code': 'ㄱ437ㅂ'}"
      ]
     },
     "execution_count": 55,
     "metadata": {},
     "output_type": "execute_result"
    }
   ],
   "source": [
    "next(x)"
   ]
  },
  {
   "cell_type": "code",
   "execution_count": 10,
   "metadata": {},
   "outputs": [
    {
     "name": "stdout",
     "output_type": "stream",
     "text": [
      "root 1234\n"
     ]
    }
   ],
   "source": [
    "from sqlalchemy import create_engine\n",
    "from sqlalchemy.ext.declarative import declarative_base\n",
    "from sqlalchemy.orm import sessionmaker\n",
    "from sqlalchemy_utils import database_exists, create_database\n",
    "from configs import Deployment\n",
    "\n",
    "SQLALCHEMY_DATABASE_URL = f\"{Deployment.db_dir}\"\n",
    "engine = create_engine(SQLALCHEMY_DATABASE_URL)\n",
    "\n",
    "if not database_exists(f\"{Deployment.db_dir}/{Deployment.db_name}\"):\n",
    "    create_database(f\"{Deployment.db_dir}/{Deployment.db_name}\")\n",
    "\n",
    "\n",
    "SQLALCHEMY_DATABASE_URL = f\"{Deployment.db_dir}/{Deployment.db_name}\"\n",
    "engine = create_engine(SQLALCHEMY_DATABASE_URL)\n",
    "\n",
    "SessionLocal = sessionmaker(autocommit=False, autoflush=False, bind=engine)\n",
    "Base = declarative_base()\n",
    "\n",
    "\n",
    "def get_db():\n",
    "    db = SessionLocal()\n",
    "    try:\n",
    "        yield db\n",
    "    finally:\n",
    "        db.close()\n"
   ]
  },
  {
   "cell_type": "code",
   "execution_count": 11,
   "metadata": {},
   "outputs": [
    {
     "data": {
      "text/plain": [
       "[]"
      ]
     },
     "execution_count": 11,
     "metadata": {},
     "output_type": "execute_result"
    }
   ],
   "source": [
    "conn = engine.connect()\n",
    "\n",
    "conn.execute(\"show tables;\").fetchall()\n"
   ]
  },
  {
   "cell_type": "code",
   "execution_count": null,
   "metadata": {},
   "outputs": [],
   "source": [
    "from sqlalchemy import Column, DateTime, ForeignKey,DATE\n",
    "from sqlalchemy.dialects.mysql import VARCHAR, CHAR, INTEGER\n",
    "from sqlalchemy.orm import relationship\n",
    "from db.database import Base\n",
    "\n",
    "Base.metadata.drop_all(bind=engine)\n",
    "\n",
    "class BookInfo(Base):\n",
    "    __tablename__ = \"book_info\"\n",
    "    __table_args__ = {'extend_existing': True}\n",
    "    isbn13 = Column(INTEGER(13), ForeignKey(\"book_info.isbn13\"))\n",
    "    bookname = Column(VARCHAR(255))\n",
    "    authors = Column(VARCHAR(255))\n",
    "    publisher = Column(VARCHAR(255))\n",
    "    class_no = Column(CHAR(7))\n",
    "    book_code = Column(CHAR(10))\n",
    "    reg_date = Column(DATE)\n",
    "    bookImageURL = Column(VARCHAR(255))\n",
    "\n",
    "class BookKeywords(Base):\n",
    "    __tablename__ = \"book_keywords\"\n",
    "    __table_args__ = {'extend_existing': True}\n",
    "    id = Column(INTEGER, primary_key=True)\n",
    "    isbn13 = Column(INTEGER(13), ForeignKey(\"book_info.isbn13\"))\n",
    "    keywords = Column(VARCHAR(255))\n",
    "\n",
    "\n",
    "class libBooks(Base):\n",
    "    __tablename__ = \"lib_books\"\n",
    "    __table_args__ = {'extend_existing': True}\n",
    "    id = Column(INTEGER, primary_key=True)\n",
    "    isbn13 = Column(INTEGER(13), ForeignKey(\"book_info.isbn13\"))\n",
    "    lib_name = Column(CHAR(3))\n",
    "\n",
    "Base.metadata.create_all(bind=engine)\n"
   ]
  },
  {
   "cell_type": "code",
   "execution_count": 95,
   "metadata": {},
   "outputs": [
    {
     "name": "stdout",
     "output_type": "stream",
     "text": [
      "[111003, 111004, 111005, 111006, 111007]\n",
      "[111008, 111009, 111010, 111022, 111011]\n",
      "[111012, 111013, 111014, 111016, 111030]\n",
      "[111015, 111018, 111019, 111020, 111021]\n"
     ]
    }
   ],
   "source": []
  }
 ],
 "metadata": {
  "kernelspec": {
   "display_name": "Python 3",
   "language": "python",
   "name": "python3"
  },
  "language_info": {
   "codemirror_mode": {
    "name": "ipython",
    "version": 3
   },
   "file_extension": ".py",
   "mimetype": "text/x-python",
   "name": "python",
   "nbconvert_exporter": "python",
   "pygments_lexer": "ipython3",
   "version": "3.9.1"
  },
  "orig_nbformat": 4
 },
 "nbformat": 4,
 "nbformat_minor": 2
}
