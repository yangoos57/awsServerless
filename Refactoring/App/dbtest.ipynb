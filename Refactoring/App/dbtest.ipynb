{
 "cells": [
  {
   "cell_type": "code",
   "execution_count": 1,
   "metadata": {},
   "outputs": [],
   "source": [
    "a = {\n",
    "    \"isbn13\": \"9791140702473\",\n",
    "    \"bookname\": \"부모님을 위한 컴퓨터 무작정 따라하기\",\n",
    "    \"authors\": \"곽은지 지음\",\n",
    "    \"publisher\": \"길벗\",\n",
    "    \"class_no\": \"004\",\n",
    "    \"reg_date\": \"2023-02-23\",\n",
    "    \"bookImageURL\": \"https://image.aladin.co.kr/product/30788/81/cover/k382831366_1.jpg\",\n",
    "    \"book_code\": \"ㄱ437ㅂ\",\n",
    "}\n"
   ]
  },
  {
   "cell_type": "code",
   "execution_count": 5,
   "metadata": {},
   "outputs": [],
   "source": [
    "from sqlalchemy import create_engine\n",
    "from sqlalchemy.ext.declarative import declarative_base\n",
    "from sqlalchemy.orm import sessionmaker\n",
    "from sqlalchemy_utils import database_exists, create_database\n",
    "from configs import Deployment\n",
    "\n",
    "dep = Deployment()\n",
    "\n",
    "SQLALCHEMY_DATABASE_URL = f\"{dep.db_dir}\"\n",
    "engine = create_engine(SQLALCHEMY_DATABASE_URL)\n",
    "\n",
    "if not database_exists(f\"{dep.db_dir}/{dep.db_name}\"):\n",
    "    create_database(f\"{dep.db_dir}/{dep.db_name}\")\n",
    "\n",
    "\n",
    "SQLALCHEMY_DATABASE_URL = f\"{dep.db_dir}/{dep.db_name}\"\n",
    "engine = create_engine(SQLALCHEMY_DATABASE_URL)\n",
    "\n",
    "SessionLocal = sessionmaker(autocommit=False, autoflush=False, bind=engine)\n",
    "Base = declarative_base()\n",
    "\n",
    "\n",
    "def get_db():\n",
    "    db = SessionLocal()\n",
    "    try:\n",
    "        yield db\n",
    "    finally:\n",
    "        db.close()\n",
    "\n",
    "\n",
    "from db.database import Base\n",
    "\n",
    "Base.metadata.drop_all(bind=engine)"
   ]
  },
  {
   "cell_type": "code",
   "execution_count": null,
   "metadata": {},
   "outputs": [],
   "source": [
    "from sqlalchemy import Column, DateTime, ForeignKey,DATE\n",
    "from sqlalchemy.dialects.mysql import VARCHAR, CHAR, INTEGER\n",
    "from sqlalchemy.orm import relationship\n",
    "from db.database import Base\n",
    "\n",
    "class BookInfo(Base):\n",
    "    __tablename__ = \"book_info\"\n",
    "    __table_args__ = {'extend_existing': True}\n",
    "    isbn13 = Column(INTEGER(13),prime_key = True, autoincrement=False)\n",
    "    bookname = Column(VARCHAR(255))\n",
    "    authors = Column(VARCHAR(255))\n",
    "    publisher = Column(VARCHAR(255))\n",
    "    class_no = Column(CHAR(7))\n",
    "    book_code = Column(CHAR(10))\n",
    "    reg_date = Column(DATE)\n",
    "    bookImageURL = Column(VARCHAR(255))\n",
    "    book_keywords = relationship(\"book_keywords\", back_populates=\"book_info\")\n",
    "    lib_books = relationship(\"lib_books\", back_populates=\"book_info\")\n",
    "\n",
    "\n",
    "\n",
    "class BookKeywords(Base):\n",
    "    __tablename__ = \"book_keywords\"\n",
    "    __table_args__ = {'extend_existing': True}\n",
    "    id = Column(INTEGER, primary_key=True)\n",
    "    isbn13 = Column(INTEGER(13), ForeignKey(\"book_info.isbn13\"))\n",
    "    keywords = Column(VARCHAR(255))\n",
    "\n",
    "\n",
    "class libBooks(Base):\n",
    "    __tablename__ = \"lib_books\"\n",
    "    __table_args__ = {'extend_existing': True}\n",
    "    id = Column(INTEGER, primary_key=True)\n",
    "    isbn13 = Column(INTEGER(13), ForeignKey(\"book_info.isbn13\"))\n",
    "    lib_name = Column(CHAR(3))\n",
    "\n",
    "Base.metadata.create_all(bind=engine)\n"
   ]
  },
  {
   "cell_type": "code",
   "execution_count": 1,
   "metadata": {},
   "outputs": [
    {
     "ename": "NameError",
     "evalue": "name 'engine' is not defined",
     "output_type": "error",
     "traceback": [
      "\u001b[0;31m---------------------------------------------------------------------------\u001b[0m",
      "\u001b[0;31mNameError\u001b[0m                                 Traceback (most recent call last)",
      "\u001b[1;32m/Users/yangwoolee/git_repo/dodomoa/Refactoring/App/dbtest.ipynb Cell 4\u001b[0m in \u001b[0;36m<cell line: 3>\u001b[0;34m()\u001b[0m\n\u001b[1;32m      <a href='vscode-notebook-cell:/Users/yangwoolee/git_repo/dodomoa/Refactoring/App/dbtest.ipynb#W3sZmlsZQ%3D%3D?line=0'>1</a>\u001b[0m \u001b[39mfrom\u001b[39;00m \u001b[39mdb\u001b[39;00m\u001b[39m.\u001b[39;00m\u001b[39mdatabase\u001b[39;00m \u001b[39mimport\u001b[39;00m Base\n\u001b[0;32m----> <a href='vscode-notebook-cell:/Users/yangwoolee/git_repo/dodomoa/Refactoring/App/dbtest.ipynb#W3sZmlsZQ%3D%3D?line=2'>3</a>\u001b[0m Base\u001b[39m.\u001b[39mmetadata\u001b[39m.\u001b[39mdrop_all(bind\u001b[39m=\u001b[39mengine)\n",
      "\u001b[0;31mNameError\u001b[0m: name 'engine' is not defined"
     ]
    }
   ],
   "source": [
    "\n"
   ]
  }
 ],
 "metadata": {
  "kernelspec": {
   "display_name": "Python 3",
   "language": "python",
   "name": "python3"
  },
  "language_info": {
   "codemirror_mode": {
    "name": "ipython",
    "version": 3
   },
   "file_extension": ".py",
   "mimetype": "text/x-python",
   "name": "python",
   "nbconvert_exporter": "python",
   "pygments_lexer": "ipython3",
   "version": "3.9.1"
  },
  "orig_nbformat": 4
 },
 "nbformat": 4,
 "nbformat_minor": 2
}
