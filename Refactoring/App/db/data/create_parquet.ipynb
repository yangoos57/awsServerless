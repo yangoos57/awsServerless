{
 "cells": [
  {
   "cell_type": "code",
   "execution_count": null,
   "metadata": {},
   "outputs": [],
   "source": [
    "import pandas as pd\n",
    "import os\n",
    "dir ='../../../raw_data'\n",
    "files = os.listdir(dir)\n",
    "\n",
    "df_lst = []\n",
    "for num, file_name in enumerate(files):\n",
    "    df = pd.read_excel(f\"{dir}/{file_name}\", engine=\"openpyxl\")\n",
    "\n",
    "    BM = df[\"주제분류번호\"].str.slice(0, 3)\n",
    "    new_df = df[(BM == \"004\") | (BM == \"005\")]\n",
    "\n",
    "    BM = new_df[\"등록일자\"].str.slice(0, 4)\n",
    "    new_df[BM.astype(int) >= 2018]\n",
    "\n",
    "    new_df[\"도서관\"] = num\n",
    "\n",
    "    df_lst.append(new_df)\n"
   ]
  },
  {
   "cell_type": "code",
   "execution_count": null,
   "metadata": {},
   "outputs": [],
   "source": [
    "modified_data = pd.concat(df_lst)"
   ]
  },
  {
   "cell_type": "code",
   "execution_count": null,
   "metadata": {},
   "outputs": [],
   "source": [
    "### save a raw file"
   ]
  },
  {
   "cell_type": "code",
   "execution_count": null,
   "metadata": {},
   "outputs": [],
   "source": [
    "BM = modified_data[\"등록일자\"].str.slice(0, 4)\n",
    "modified_data = modified_data[BM.astype(int) >= 2018]\n",
    "\n",
    "modified_data = modified_data.drop(columns=[\"번호\", \"발행년도\", \"세트 ISBN\", \"부가기호\", \"권\", \"도서권수\", \"대출건수\"])\n",
    "modified_data = modified_data.reset_index(drop=True)\n",
    "\n",
    "\n",
    "modified_data.to_parquet(\"raw_data.parquet\")"
   ]
  },
  {
   "cell_type": "code",
   "execution_count": null,
   "metadata": {},
   "outputs": [],
   "source": [
    "### save a lib_books file"
   ]
  },
  {
   "cell_type": "code",
   "execution_count": null,
   "metadata": {},
   "outputs": [],
   "source": [
    "files = os.listdir(\"../raw_data\")\n",
    "lib_name = list(map(lambda x: x[8:10], files))\n",
    "lib_name[0] = \"동대문\"\n",
    "lib_name[8] = \"영등포\"\n",
    "lib_name[11] = \"서대문\"\n",
    "\n",
    "lib_dict = dict(zip(range(20), lib_name))\n",
    "lib_books = modified_data[[\"도서관\", \"ISBN\"]]\n",
    "lib_books.loc[:, \"도서관\"] = lib_books[\"도서관\"].replace(lib_dict)\n",
    "\n",
    "\n",
    "lib_books.to_parquet(\"lib_books.parquet\")\n"
   ]
  },
  {
   "cell_type": "code",
   "execution_count": null,
   "metadata": {},
   "outputs": [],
   "source": [
    "### save a book_info file"
   ]
  },
  {
   "cell_type": "code",
   "execution_count": 23,
   "metadata": {},
   "outputs": [],
   "source": [
    "book_info = modified_data.drop(columns=\"도서관\")\n",
    "book_info.drop_duplicates(subset=[\"ISBN\"], inplace=True)\n",
    "\n",
    "book_info.columns = [\n",
    "    \"bookname\",\n",
    "    \"authors\",\n",
    "    \"publisher\",\n",
    "    \"isbn13\",\n",
    "    \"class_no\",\n",
    "    \"reg_date\",\n",
    "]\n",
    "book_info[\"bookImageURL\"] = \"http://www.hello.world\"\n",
    "\n",
    "book_info.to_parquet(\"book_info.parquet\")\n"
   ]
  },
  {
   "cell_type": "code",
   "execution_count": 2,
   "metadata": {},
   "outputs": [],
   "source": [
    "import os\n",
    "files = os.listdir(dir)\n",
    "lib_name = list(map(lambda x: x[8:10], files))\n",
    "lib_name[0] = \"동대문\"\n",
    "lib_name[8] = \"영등포\"\n",
    "lib_name[11] = \"서대문\""
   ]
  },
  {
   "cell_type": "code",
   "execution_count": 12,
   "metadata": {},
   "outputs": [],
   "source": [
    "# lib_dict = {\n",
    "#     111003: \"강남\",\n",
    "#     111004: \"강동\",\n",
    "#     111005: \"강서\",\n",
    "#     111006: \"개포\",\n",
    "#     111007: \"고덕\",\n",
    "#     111008: \"고척\",\n",
    "#     111009: \"구로\",\n",
    "#     111010: \"남산\",\n",
    "#     111022: \"노원\",\n",
    "#     111011: \"도봉\",\n",
    "#     111012: \"동대문\",\n",
    "#     111013: \"동작\",\n",
    "#     111014: \"마포\",\n",
    "#     111016: \"서대문\",\n",
    "#     111030: \"송파\",\n",
    "#     111015: \"양천\",\n",
    "#     111018: \"영등포\",\n",
    "#     111019: \"용산\",\n",
    "#     111020: \"정독\",\n",
    "#     111021: \"종로\",\n",
    "# }\n",
    "\n",
    "\n",
    "# lib_book = pd.read_parquet(\"update/lib_book.parquet\")\n",
    "# lib_book['lib_code'] = lib_book['lib_code'].apply(lambda x : lib_dict[x])\n"
   ]
  }
 ],
 "metadata": {
  "kernelspec": {
   "display_name": "Python 3",
   "language": "python",
   "name": "python3"
  },
  "language_info": {
   "codemirror_mode": {
    "name": "ipython",
    "version": 3
   },
   "file_extension": ".py",
   "mimetype": "text/x-python",
   "name": "python",
   "nbconvert_exporter": "python",
   "pygments_lexer": "ipython3",
   "version": "3.9.1"
  },
  "orig_nbformat": 4
 },
 "nbformat": 4,
 "nbformat_minor": 2
}
