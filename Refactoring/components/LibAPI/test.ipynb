{
 "cells": [
  {
   "cell_type": "code",
   "execution_count": 5,
   "metadata": {},
   "outputs": [
    {
     "name": "stdout",
     "output_type": "stream",
     "text": [
      "Skip : 9791158393038\n"
     ]
    },
    {
     "data": {
      "text/plain": [
       "['skip', 9791158393038]"
      ]
     },
     "execution_count": 5,
     "metadata": {},
     "output_type": "execute_result"
    }
   ],
   "source": [
    "import requests\n",
    "from bs4 import BeautifulSoup\n",
    "import re\n",
    "def extractKyobo(ISBN: int) -> list:\n",
    "    \"\"\"\n",
    "\n",
    "    새롭게 확보한 도서의 데이터를 교보문고에서 크롤링한다.\n",
    "    목차, 도서소개, 추천사 등 가용한 텍스트 모두를 수집한다.\n",
    "    해당 함수는 kyoboSaveMultiThread에서 사용된다.\n",
    "\n",
    "    \"\"\"\n",
    "    kyoboUrl = f\"http://www.kyobobook.co.kr/product/detailViewKor.laf?ejkGb=KOR&mallGb=KOR&barcode={ISBN}\"\n",
    "    kyoboHtml = requests.get(kyoboUrl)\n",
    "    global kyoboSoup\n",
    "    kyoboSoup = BeautifulSoup(kyoboHtml.content, \"html.parser\")\n",
    "    try:\n",
    "        bookTitle: str = kyoboSoup.h1.span.text\n",
    "\n",
    "        contents = kyoboSoup.find_all(class_=\"box_detail_article\")\n",
    "        sortedItems = []\n",
    "        for item in contents:\n",
    "            if item.find(class_=\"content\"):\n",
    "                # 숨겨진 항목을 불러오는 조건식\n",
    "                item = item.find_all(class_=\"content\")[-1]\n",
    "\n",
    "            result = re.sub(\"<.*?>|\\W|[_*]\", \" \", str(item))\n",
    "            sortedItems.append(result)\n",
    "\n",
    "        itemList = [bookTitle, ISBN]\n",
    "        itemList.extend(sortedItems)\n",
    "\n",
    "    except:\n",
    "        itemList = [\"skip\", ISBN]\n",
    "        print(\"Skip :\", ISBN)\n",
    "\n",
    "    return itemList\n",
    "\n",
    "extractKyobo(9791158393038)"
   ]
  },
  {
   "cell_type": "code",
   "execution_count": 110,
   "metadata": {},
   "outputs": [],
   "source": [
    "import requests\n",
    "from bs4 import BeautifulSoup\n",
    "import re\n",
    "from itertools import chain\n",
    "\n",
    "def _extract_title(soup):\n",
    "    return soup.find(class_=\"prod_title\").string\n",
    "\n",
    "def _extract_intro(soup):\n",
    "    book_intro_soup = soup.find_all(\"div\", \"info_text\")[-1]\n",
    "    book_intro_chunk = str(book_intro_soup).split(\"<br/>\")\n",
    "    book_intro_chunk_2d = list(\n",
    "        map(lambda x: re.sub(\"<.*>\", \"\", x).replace(\".\", \".##\").split(\"##\"), book_intro_chunk)\n",
    "    )\n",
    "    return list(chain(*book_intro_chunk_2d))\n",
    "\n",
    "\n",
    "def _extract_toc(soup):\n",
    "    book_toc_soup = soup.find(class_=\"book_contents_item\")\n",
    "    return str(book_toc_soup).split(\"<br/>\")[1:-1]\n",
    "\n",
    "\n",
    "def _extract_publisher(soup):\n",
    "    publisher: str = soup.find(class_=\"book_publish_review\")\n",
    "\n",
    "    if publisher is not None:\n",
    "        publisher = publisher.p.get_text().replace(\".\", \".##\").split(\"##\")\n",
    "    else:\n",
    "        publisher = []\n",
    "\n",
    "    return publisher\n",
    "\n",
    "\n",
    "def _clean_up_book_info(book_info):\n",
    "    # 한국어 영어 제외하고 모두 제거\n",
    "    book_info = (re.sub(\"[^A-Za-z\\u3130-\\u318F\\uAC00-\\uD7A3]\", \" \", i) for i in book_info)\n",
    "\n",
    "    # 공백 하나로 줄이기 ex) '  ' -> ' '\n",
    "    book_info = (re.sub(\" +\", \" \", i).strip(\" \") for i in book_info)\n",
    "\n",
    "    book_info = filter(None, book_info)\n",
    "\n",
    "    return list(book_info)\n",
    "\n",
    "\n",
    "\n",
    "async def scrap_book_info(ISBN) :\n",
    "\n",
    "    \"\"\"\n",
    "    book_title, book_toc, book_intro, publisher 추출하는 함수\n",
    "    \"\"\"\n",
    "\n",
    "    url = f\"http://www.kyobobook.co.kr/product/detailViewKor.laf?ejkGb=KOR&mallGb=KOR&barcode={ISBN}\"\n",
    "\n",
    "    async with aiohttp.ClientSession() as session:\n",
    "        async with session.get(url) as resp:\n",
    "            html = await resp.content\n",
    "\n",
    "    kyobo_soup =  BeautifulSoup(html, \"html.parser\")\n",
    "\n",
    "\n",
    "    book_title: str = _extract_title(kyobo_soup)\n",
    "    book_publisher: list = _extract_publisher(kyobo_soup)\n",
    "    book_intro: list = _extract_intro(kyobo_soup)\n",
    "    book_toc: list = _extract_toc(kyobo_soup)\n",
    "\n",
    "\n",
    "    book_info = list(map(_clean_up_book_info, [book_toc, book_intro, book_publisher]))\n",
    "    \n",
    "    return [book_title] + book_info\n"
   ]
  },
  {
   "cell_type": "code",
   "execution_count": 46,
   "metadata": {},
   "outputs": [
    {
     "ename": "ContentTypeError",
     "evalue": "0, message='Attempt to decode JSON with unexpected mimetype: text/html', url=URL('http://data4library.kr/api/itemSrch?libCode=111010&startDt=2020-01-01&endDt=2023-03-09&authKey=7123eacb2744a02faca2508a82304c3bf154bf0b285da35c2faa2b8498b09872&pageSize=10000&format=json')",
     "output_type": "error",
     "traceback": [
      "\u001b[0;31m---------------------------------------------------------------------------\u001b[0m",
      "\u001b[0;31mContentTypeError\u001b[0m                          Traceback (most recent call last)",
      "\u001b[1;32m/Users/yangwoolee/git_repo/dodomoa/Refactoring/components/LibAPI/test.ipynb Cell 1\u001b[0m in \u001b[0;36m<cell line: 30>\u001b[0;34m()\u001b[0m\n\u001b[1;32m     <a href='vscode-notebook-cell:/Users/yangwoolee/git_repo/dodomoa/Refactoring/components/LibAPI/test.ipynb#W0sZmlsZQ%3D%3D?line=30'>31</a>\u001b[0m chunk_lib_codes \u001b[39m=\u001b[39m lib_codes[i : i \u001b[39m+\u001b[39m chunk]\n\u001b[1;32m     <a href='vscode-notebook-cell:/Users/yangwoolee/git_repo/dodomoa/Refactoring/components/LibAPI/test.ipynb#W0sZmlsZQ%3D%3D?line=31'>32</a>\u001b[0m tasks \u001b[39m=\u001b[39m [request_book_data(i,start_date\u001b[39m=\u001b[39mdate(\u001b[39m2020\u001b[39m, \u001b[39m1\u001b[39m, \u001b[39m1\u001b[39m)) \u001b[39mfor\u001b[39;00m i \u001b[39min\u001b[39;00m chunk_lib_codes]\n\u001b[0;32m---> <a href='vscode-notebook-cell:/Users/yangwoolee/git_repo/dodomoa/Refactoring/components/LibAPI/test.ipynb#W0sZmlsZQ%3D%3D?line=32'>33</a>\u001b[0m results \u001b[39m=\u001b[39m \u001b[39mawait\u001b[39;00m asyncio\u001b[39m.\u001b[39mgather(\u001b[39m*\u001b[39mtasks)\n\u001b[1;32m     <a href='vscode-notebook-cell:/Users/yangwoolee/git_repo/dodomoa/Refactoring/components/LibAPI/test.ipynb#W0sZmlsZQ%3D%3D?line=33'>34</a>\u001b[0m answer\u001b[39m.\u001b[39mextend(results)\n",
      "File \u001b[0;32m~/git_repo/dodomoa/Refactoring/components/LibAPI/main.py:35\u001b[0m, in \u001b[0;36mrequest_book_data\u001b[0;34m(lib_code, start_date, end_date)\u001b[0m\n\u001b[1;32m     33\u001b[0m \u001b[39masync\u001b[39;00m \u001b[39mwith\u001b[39;00m aiohttp\u001b[39m.\u001b[39mClientSession() \u001b[39mas\u001b[39;00m session:\n\u001b[1;32m     34\u001b[0m     \u001b[39masync\u001b[39;00m \u001b[39mwith\u001b[39;00m session\u001b[39m.\u001b[39mget(libUrl) \u001b[39mas\u001b[39;00m resp:\n\u001b[0;32m---> 35\u001b[0m         raw_data \u001b[39m=\u001b[39m \u001b[39mawait\u001b[39;00m resp\u001b[39m.\u001b[39mjson()\n\u001b[1;32m     37\u001b[0m after \u001b[39m=\u001b[39m datetime\u001b[39m.\u001b[39mnow()\n\u001b[1;32m     39\u001b[0m \u001b[39mprint\u001b[39m(\u001b[39m\"\u001b[39m\u001b[39m실행시간 : \u001b[39m\u001b[39m\"\u001b[39m, after \u001b[39m-\u001b[39m before)\n",
      "File \u001b[0;32m~/.pyenv/versions/3.9.1/lib/python3.9/site-packages/aiohttp/client_reqrep.py:1104\u001b[0m, in \u001b[0;36mClientResponse.json\u001b[0;34m(self, encoding, loads, content_type)\u001b[0m\n\u001b[1;32m   1102\u001b[0m     ctype \u001b[39m=\u001b[39m \u001b[39mself\u001b[39m\u001b[39m.\u001b[39mheaders\u001b[39m.\u001b[39mget(hdrs\u001b[39m.\u001b[39mCONTENT_TYPE, \u001b[39m\"\u001b[39m\u001b[39m\"\u001b[39m)\u001b[39m.\u001b[39mlower()\n\u001b[1;32m   1103\u001b[0m     \u001b[39mif\u001b[39;00m \u001b[39mnot\u001b[39;00m _is_expected_content_type(ctype, content_type):\n\u001b[0;32m-> 1104\u001b[0m         \u001b[39mraise\u001b[39;00m ContentTypeError(\n\u001b[1;32m   1105\u001b[0m             \u001b[39mself\u001b[39m\u001b[39m.\u001b[39mrequest_info,\n\u001b[1;32m   1106\u001b[0m             \u001b[39mself\u001b[39m\u001b[39m.\u001b[39mhistory,\n\u001b[1;32m   1107\u001b[0m             message\u001b[39m=\u001b[39m(\n\u001b[1;32m   1108\u001b[0m                 \u001b[39m\"\u001b[39m\u001b[39mAttempt to decode JSON with \u001b[39m\u001b[39m\"\u001b[39m \u001b[39m\"\u001b[39m\u001b[39munexpected mimetype: \u001b[39m\u001b[39m%s\u001b[39;00m\u001b[39m\"\u001b[39m \u001b[39m%\u001b[39m ctype\n\u001b[1;32m   1109\u001b[0m             ),\n\u001b[1;32m   1110\u001b[0m             headers\u001b[39m=\u001b[39m\u001b[39mself\u001b[39m\u001b[39m.\u001b[39mheaders,\n\u001b[1;32m   1111\u001b[0m         )\n\u001b[1;32m   1113\u001b[0m stripped \u001b[39m=\u001b[39m \u001b[39mself\u001b[39m\u001b[39m.\u001b[39m_body\u001b[39m.\u001b[39mstrip()  \u001b[39m# type: ignore[union-attr]\u001b[39;00m\n\u001b[1;32m   1114\u001b[0m \u001b[39mif\u001b[39;00m \u001b[39mnot\u001b[39;00m stripped:\n",
      "\u001b[0;31mContentTypeError\u001b[0m: 0, message='Attempt to decode JSON with unexpected mimetype: text/html', url=URL('http://data4library.kr/api/itemSrch?libCode=111010&startDt=2020-01-01&endDt=2023-03-09&authKey=7123eacb2744a02faca2508a82304c3bf154bf0b285da35c2faa2b8498b09872&pageSize=10000&format=json')"
     ]
    }
   ],
   "source": [
    "from main import request_book_data\n",
    "import asyncio\n",
    "from datetime import date\n",
    "\n",
    "lib_codes = [\n",
    "    111003,\n",
    "    111004,\n",
    "    111005,\n",
    "    111006,\n",
    "    111007,\n",
    "    111008,\n",
    "    111009,\n",
    "    111010,\n",
    "    111022,\n",
    "    111011,\n",
    "    111012,\n",
    "    111013,\n",
    "    111014,\n",
    "    111016,\n",
    "    111030,\n",
    "    111015,\n",
    "    111018,\n",
    "    111019,\n",
    "    111020,\n",
    "    111021,\n",
    "]\n",
    "\n",
    "chunk = 10\n",
    "answer = []\n",
    "for i in range(0, len(lib_codes), chunk):\n",
    "    chunk_lib_codes = lib_codes[i : i + chunk]\n",
    "    tasks = [request_book_data(i,start_date=date(2020, 1, 1)) for i in chunk_lib_codes]\n",
    "    results = await asyncio.gather(*tasks)\n",
    "    answer.extend(results)"
   ]
  },
  {
   "cell_type": "code",
   "execution_count": 37,
   "metadata": {},
   "outputs": [],
   "source": [
    "from itertools import chain\n",
    "\n",
    "answer\n",
    "\n",
    "lst = []\n",
    "for i in chain(*results) :\n",
    "    lst.append(i)\n"
   ]
  },
  {
   "cell_type": "code",
   "execution_count": 34,
   "metadata": {},
   "outputs": [
    {
     "data": {
      "text/html": [
       "<div>\n",
       "<style scoped>\n",
       "    .dataframe tbody tr th:only-of-type {\n",
       "        vertical-align: middle;\n",
       "    }\n",
       "\n",
       "    .dataframe tbody tr th {\n",
       "        vertical-align: top;\n",
       "    }\n",
       "\n",
       "    .dataframe thead th {\n",
       "        text-align: right;\n",
       "    }\n",
       "</style>\n",
       "<table border=\"1\" class=\"dataframe\">\n",
       "  <thead>\n",
       "    <tr style=\"text-align: right;\">\n",
       "      <th></th>\n",
       "    </tr>\n",
       "  </thead>\n",
       "  <tbody>\n",
       "  </tbody>\n",
       "</table>\n",
       "</div>"
      ],
      "text/plain": [
       "Empty DataFrame\n",
       "Columns: []\n",
       "Index: []"
      ]
     },
     "execution_count": 34,
     "metadata": {},
     "output_type": "execute_result"
    }
   ],
   "source": [
    "import pandas as pd \n",
    "pd.DataFrame(lst)"
   ]
  },
  {
   "cell_type": "code",
   "execution_count": 1,
   "metadata": {},
   "outputs": [
    {
     "ename": "NameError",
     "evalue": "name 'date' is not defined",
     "output_type": "error",
     "traceback": [
      "\u001b[0;31m---------------------------------------------------------------------------\u001b[0m",
      "\u001b[0;31mNameError\u001b[0m                                 Traceback (most recent call last)",
      "\u001b[1;32m/Users/yangwoolee/git_repo/dodomoa/Refactoring/components/LibAPI/test.ipynb Cell 4\u001b[0m in \u001b[0;36m<cell line: 8>\u001b[0;34m()\u001b[0m\n\u001b[1;32m      <a href='vscode-notebook-cell:/Users/yangwoolee/git_repo/dodomoa/Refactoring/components/LibAPI/test.ipynb#W3sZmlsZQ%3D%3D?line=5'>6</a>\u001b[0m end_date \u001b[39m=\u001b[39m datetime\u001b[39m.\u001b[39mnow()\u001b[39m.\u001b[39mdate()\u001b[39m.\u001b[39mreplace(day\u001b[39m=\u001b[39m\u001b[39m1\u001b[39m) \u001b[39m-\u001b[39m timedelta(days\u001b[39m=\u001b[39m\u001b[39m1\u001b[39m)\n\u001b[1;32m      <a href='vscode-notebook-cell:/Users/yangwoolee/git_repo/dodomoa/Refactoring/components/LibAPI/test.ipynb#W3sZmlsZQ%3D%3D?line=6'>7</a>\u001b[0m \u001b[39m# start_date = end_date - relativedelta(months=1)\u001b[39;00m\n\u001b[0;32m----> <a href='vscode-notebook-cell:/Users/yangwoolee/git_repo/dodomoa/Refactoring/components/LibAPI/test.ipynb#W3sZmlsZQ%3D%3D?line=7'>8</a>\u001b[0m start_date\u001b[39m=\u001b[39mdate(\u001b[39m2023\u001b[39m, \u001b[39m1\u001b[39m, \u001b[39m1\u001b[39m)\n\u001b[1;32m     <a href='vscode-notebook-cell:/Users/yangwoolee/git_repo/dodomoa/Refactoring/components/LibAPI/test.ipynb#W3sZmlsZQ%3D%3D?line=9'>10</a>\u001b[0m libUrl \u001b[39m=\u001b[39m \u001b[39mf\u001b[39m\u001b[39m\"\u001b[39m\u001b[39mhttp://data4library.kr/api/itemSrch?libCode=\u001b[39m\u001b[39m{\u001b[39;00mlib_code\u001b[39m}\u001b[39;00m\u001b[39m&startDt=\u001b[39m\u001b[39m{\u001b[39;00mstart_date\u001b[39m}\u001b[39;00m\u001b[39m&endDt=\u001b[39m\u001b[39m{\u001b[39;00mend_date\u001b[39m}\u001b[39;00m\u001b[39m&authKey=\u001b[39m\u001b[39m{\u001b[39;00mauth_key\u001b[39m}\u001b[39;00m\u001b[39m&pageSize=10000&format=json\u001b[39m\u001b[39m\"\u001b[39m\n\u001b[1;32m     <a href='vscode-notebook-cell:/Users/yangwoolee/git_repo/dodomoa/Refactoring/components/LibAPI/test.ipynb#W3sZmlsZQ%3D%3D?line=11'>12</a>\u001b[0m aaa \u001b[39m=\u001b[39m requests\u001b[39m.\u001b[39mget(libUrl,timeout\u001b[39m=\u001b[39m\u001b[39m200\u001b[39m)\n",
      "\u001b[0;31mNameError\u001b[0m: name 'date' is not defined"
     ]
    }
   ],
   "source": [
    "from datetime import datetime,timedelta\n",
    "from dateutil.relativedelta import relativedelta\n",
    "import requests\n",
    "lib_code = 111016\n",
    "auth_key = \"7123eacb2744a02faca2508a82304c3bf154bf0b285da35c2faa2b8498b09872\"\n",
    "end_date = datetime.now().date().replace(day=1) - timedelta(days=1)\n",
    "# start_date = end_date - relativedelta(months=1)\n",
    "start_date=date(2023, 1, 1)\n",
    "\n",
    "libUrl = f\"http://data4library.kr/api/itemSrch?libCode={lib_code}&startDt={start_date}&endDt={end_date}&authKey={auth_key}&pageSize=10000&format=json\"\n",
    "\n",
    "aaa = requests.get(libUrl,timeout=200)\n",
    "\n",
    "aaaa = aaa.json()\n",
    "all_books_info = map(lambda x: x[\"doc\"], aaaa[\"response\"][\"docs\"])"
   ]
  }
 ],
 "metadata": {
  "kernelspec": {
   "display_name": "Python 3",
   "language": "python",
   "name": "python3"
  },
  "language_info": {
   "codemirror_mode": {
    "name": "ipython",
    "version": 3
   },
   "file_extension": ".py",
   "mimetype": "text/x-python",
   "name": "python",
   "nbconvert_exporter": "python",
   "pygments_lexer": "ipython3",
   "version": "3.9.1"
  },
  "orig_nbformat": 4
 },
 "nbformat": 4,
 "nbformat_minor": 2
}
