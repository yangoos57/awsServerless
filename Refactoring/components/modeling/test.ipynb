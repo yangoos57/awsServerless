{
 "cells": [
  {
   "cell_type": "code",
   "execution_count": 136,
   "metadata": {},
   "outputs": [
    {
     "data": {
      "text/html": [
       "<div>\n",
       "<style scoped>\n",
       "    .dataframe tbody tr th:only-of-type {\n",
       "        vertical-align: middle;\n",
       "    }\n",
       "\n",
       "    .dataframe tbody tr th {\n",
       "        vertical-align: top;\n",
       "    }\n",
       "\n",
       "    .dataframe thead th {\n",
       "        text-align: right;\n",
       "    }\n",
       "</style>\n",
       "<table border=\"1\" class=\"dataframe\">\n",
       "  <thead>\n",
       "    <tr style=\"text-align: right;\">\n",
       "      <th></th>\n",
       "      <th>isbn13</th>\n",
       "      <th>title</th>\n",
       "      <th>toc</th>\n",
       "      <th>intro</th>\n",
       "      <th>publisher</th>\n",
       "    </tr>\n",
       "  </thead>\n",
       "  <tbody>\n",
       "    <tr>\n",
       "      <th>0</th>\n",
       "      <td>9791163034254</td>\n",
       "      <td>깡샘의 안드로이드 앱 프로그래밍 with 코틀린</td>\n",
       "      <td>[첫째마당 안드로이드 앱 개발 준비하기, 개발 환경 준비하기, 안드로이드 스튜디오 ...</td>\n",
       "      <td>[안드로이드 코틀린 분야 위 도서였던 개정판에 이어 개정 판이 출간되었다, 이번 판...</td>\n",
       "      <td>[이 책의 특징 안드로이드 티라미수을 기준으로 내용 및 소스를 업데이트했습니다, 전...</td>\n",
       "    </tr>\n",
       "    <tr>\n",
       "      <th>1</th>\n",
       "      <td>9788966263677</td>\n",
       "      <td>CPython 파헤치기</td>\n",
       "      <td>[소스 코드에 포함된 것들, 장 개발 환경 구성하기, 편집기와 통합 개발 환경, 비...</td>\n",
       "      <td>[파이썬이 인터프리터 레벨에서 작동하는 방식을 이해하면 파이썬의 기능을 최대한 활용...</td>\n",
       "      <td>[]</td>\n",
       "    </tr>\n",
       "    <tr>\n",
       "      <th>2</th>\n",
       "      <td>9791140702473</td>\n",
       "      <td>부모님을 위한 컴퓨터 무작정 따라하기</td>\n",
       "      <td>[첫째 마당 이것만은 꼭 컴퓨터 기초 지식 다지기, 컴퓨터 자기소개, 컴퓨터 기본 ...</td>\n",
       "      <td>[컴퓨터 앞에 서면 막막해진다는 부모님을 위해 시작한 욜디 의 컴퓨터 기초 강의 이...</td>\n",
       "      <td>[세상 쉬운부모님을 위한 컴퓨터 무작정 따라하기더이상 물어볼 필요 없어요 일상에 힘...</td>\n",
       "    </tr>\n",
       "    <tr>\n",
       "      <th>3</th>\n",
       "      <td>9791192932057</td>\n",
       "      <td>챗GPT</td>\n",
       "      <td>[AI는 이미 당신보다 똑똑하다, 너무 똑똑한 AI의 출현 위기인가 기회인가, 고도...</td>\n",
       "      <td>[출시된 지 얼마 되지도 않아 세상을 뒤흔든 챗GPT는 지금까지 나온 모든 인공지능...</td>\n",
       "      <td>[]</td>\n",
       "    </tr>\n",
       "    <tr>\n",
       "      <th>4</th>\n",
       "      <td>9791140702787</td>\n",
       "      <td>쉽게 시작하는 쿠버네티스</td>\n",
       "      <td>[장 쿠버네티스의 등장, 컨테이너 환경으로의 진화, 쿠버네티스를 학습하기 전에 알아...</td>\n",
       "      <td>[]</td>\n",
       "      <td>[모든 것은 기본에서 시작한다 가볍지만 알차게 배우는 쿠버네티스 쿠버네티스는 컨테이...</td>\n",
       "    </tr>\n",
       "  </tbody>\n",
       "</table>\n",
       "</div>"
      ],
      "text/plain": [
       "          isbn13                       title  \\\n",
       "0  9791163034254  깡샘의 안드로이드 앱 프로그래밍 with 코틀린   \n",
       "1  9788966263677                CPython 파헤치기   \n",
       "2  9791140702473        부모님을 위한 컴퓨터 무작정 따라하기   \n",
       "3  9791192932057                        챗GPT   \n",
       "4  9791140702787               쉽게 시작하는 쿠버네티스   \n",
       "\n",
       "                                                 toc  \\\n",
       "0  [첫째마당 안드로이드 앱 개발 준비하기, 개발 환경 준비하기, 안드로이드 스튜디오 ...   \n",
       "1  [소스 코드에 포함된 것들, 장 개발 환경 구성하기, 편집기와 통합 개발 환경, 비...   \n",
       "2  [첫째 마당 이것만은 꼭 컴퓨터 기초 지식 다지기, 컴퓨터 자기소개, 컴퓨터 기본 ...   \n",
       "3  [AI는 이미 당신보다 똑똑하다, 너무 똑똑한 AI의 출현 위기인가 기회인가, 고도...   \n",
       "4  [장 쿠버네티스의 등장, 컨테이너 환경으로의 진화, 쿠버네티스를 학습하기 전에 알아...   \n",
       "\n",
       "                                               intro  \\\n",
       "0  [안드로이드 코틀린 분야 위 도서였던 개정판에 이어 개정 판이 출간되었다, 이번 판...   \n",
       "1  [파이썬이 인터프리터 레벨에서 작동하는 방식을 이해하면 파이썬의 기능을 최대한 활용...   \n",
       "2  [컴퓨터 앞에 서면 막막해진다는 부모님을 위해 시작한 욜디 의 컴퓨터 기초 강의 이...   \n",
       "3  [출시된 지 얼마 되지도 않아 세상을 뒤흔든 챗GPT는 지금까지 나온 모든 인공지능...   \n",
       "4                                                 []   \n",
       "\n",
       "                                           publisher  \n",
       "0  [이 책의 특징 안드로이드 티라미수을 기준으로 내용 및 소스를 업데이트했습니다, 전...  \n",
       "1                                                 []  \n",
       "2  [세상 쉬운부모님을 위한 컴퓨터 무작정 따라하기더이상 물어볼 필요 없어요 일상에 힘...  \n",
       "3                                                 []  \n",
       "4  [모든 것은 기본에서 시작한다 가볍지만 알차게 배우는 쿠버네티스 쿠버네티스는 컨테이...  "
      ]
     },
     "execution_count": 136,
     "metadata": {},
     "output_type": "execute_result"
    }
   ],
   "source": [
    "import pandas as pd\n",
    "import torch\n",
    "raw_data = pd.read_parquet(\"../../data/book_scraping.parquet\")\n",
    "\n",
    "raw_data.head()\n"
   ]
  },
  {
   "cell_type": "code",
   "execution_count": 139,
   "metadata": {},
   "outputs": [],
   "source": [
    "raw_data.iloc[10:12].to_parquet('modeling_test.parquet')\n",
    "# test = raw_data.iloc[0]"
   ]
  },
  {
   "cell_type": "code",
   "execution_count": 138,
   "metadata": {},
   "outputs": [
    {
     "data": {
      "text/plain": [
       "isbn13                                           9791163034254\n",
       "title                               깡샘의 안드로이드 앱 프로그래밍 with 코틀린\n",
       "toc          [첫째마당 안드로이드 앱 개발 준비하기, 개발 환경 준비하기, 안드로이드 스튜디오 ...\n",
       "intro        [안드로이드 코틀린 분야 위 도서였던 개정판에 이어 개정 판이 출간되었다, 이번 판...\n",
       "publisher    [이 책의 특징 안드로이드 티라미수을 기준으로 내용 및 소스를 업데이트했습니다, 전...\n",
       "Name: 0, dtype: object"
      ]
     },
     "execution_count": 138,
     "metadata": {},
     "output_type": "execute_result"
    }
   ],
   "source": [
    "test"
   ]
  },
  {
   "cell_type": "code",
   "execution_count": 34,
   "metadata": {},
   "outputs": [
    {
     "data": {
      "text/plain": [
       "'깡샘의 안드로이드 앱 프로그래밍 with 코틀린 첫째마당 안드로이드 앱 개발 준비하기 개발 환경 준비하기 안드로이드 스튜디오 설치하기 첫 번째 앱 만들기 앱 실행하기 앱 출시하기 Do it 실습 안드로이드 앱의 기본 구조 안드로이드 소개 안드로이드 앱 개발의 특징 앱 구성 파일 분석 둘째마당 코틀린 이해하기 코틀린 시작하기 코틀린 언어 소개 변수와 함수 조건문과 반복문 코틀린 객체지향 프로그래밍 클래스와 생성자 클래스를 재사용하는 상속 코틀린의 클래스 종류 코틀린의 유용한 기법 람다 함수와 고차 함수 널 안전성 셋째마당 앱의 기본 기능 구현하기 뷰를 이용한 화면 구성 화면을 구성하는 방법 뷰 클래스 기본적인 뷰 살펴보기 뷰 바인딩 카카오톡 비밀번호 확인 화면 만들기 Do it 실습 뷰를 배치하는 레이아웃 선형으로 배치 LinearLayout 상대 위치로 배치 RelativeLayout 겹쳐서 배치 FrameLayout 표 형태로 배치 GridLayout 계층 구조로 배치 ConstraintLayout 전화 앱의 키패드 화면 만들기 Do it 실습 사용자 이벤트 처리하기 터치와 키 이벤트 뷰 이벤트 시계 앱의 스톱워치 기능 만들기 Do it 실습 리소스 활용하기 리소스의 종류와 특징 리소스 조건 설정 폰 크기의 호환성 메신저 앱의 인트로 화면 만들기 Do it 실습 다이얼로그와 알림 이용하기 API 레벨 호환성 고려하기 퍼미션 설정하기 다양한 다이얼로그 소리와 진동 알림 알림 띄우기 카카오톡 알림 만들기 Do it 실습 넷째마당 구글의 라이브러리로 화면 구성하기 제트팩 라이브러리 제트팩과 androidx 소개 appcompat 라이브러리 API 호환성 해결 프래그먼트 액티비티처럼 동작하는 뷰 리사이클러 뷰 목록 화면 구성 뷰 페이저 스와이프로 넘기는 화면 구성 드로어 레이아웃 옆에서 열리는 화면 구성 제트팩을 이용해 화면 만들기 Do it 실습 머티리얼 라이브러리 앱바 사용하기 탭 레이아웃 탭 버튼 구성 내비게이션 뷰 드로어 화면 구성 확장된 플로팅 액션 버튼 머티리얼 라이브러리로 화면 구성하기 Do it 실습 다섯째마당 컴포넌트 이해하기 액티비티 컴포넌트 인텐트 이해하기 액티비티 생명주기 액티비티 제어 태스크 관리 액티비티 ANR 문제와 코루틴 할 일 목록 앱 만들기 Do it 실습 브로드캐스트 리시버 컴포넌트 브로드캐스트 리시버 이해하기 시스템 상태 파악하기 배터리 정보 앱 만들기 Do it 실습 서비스 컴포넌트 서비스 이해하기 바인딩 서비스 백그라운드 제약 잡 스케줄러 MP 재생 앱 만들기 Do it 실습 콘텐츠 프로바이더 컴포넌트 콘텐츠 프로바이더 이해하기 안드로이드 기본 앱과 연동하기 카메라 갤러리 앱과 연동하는 앱 만들기 Do it 실습 여섯째마당 앱에 다양한 기능 추가하기 저장소에 데이터 보관하기 데이터베이스에 보관하기 파일에 보관하기 공유된 프리퍼런스에 보관하기 개선된 할 일 목록 앱 만들기 Do it 실습 네트워크 프로그래밍 스마트폰 정보 구하기 HTTP 통신하기 이미지 처리하기 Glide 라이브러리 뉴스 앱 만들기 Do it 실습 위치 정보 활용하기 사용자 위치 얻기 구글 지도 활용하기 구글 지도 앱 만들기 Do it 실습 일곱째마당 파이어베이스와 연동하기 파이어베이스 연동과 인증 기능 파이어베이스 이해하기 파이어베이스 연동하기 인증 기능 이용하기 회원가입과 로그인 기능 만들기 Do it 실습 파이어스토어 스토리지 FCM 클라우드 파이어스토어 파이어베이스 스토리지 이미지 공유 앱 만들기 Do it 실습 파이어베이스 클라우드 메시징 서버에서 보내는 알림 받기 Do it 실습 안드로이드 코틀린 분야 위 도서였던 개정판에 이어 개정 판이 출간되었다 이번 판에서는 안드로이드 티라미수 기준으로 달라진 내용을 보충했으며 실습 소스를 업데이트하며 책의 완성도를 더욱 높였다 이 책은 구글에서 공식 언어로 채택한 코틀린으로 안드로이드 앱을 개발하는 전 과정을 다룬다 IT 업계의 명강사인 깡샘이 입문자도 쉽게 이해할 수 있게 구성하여 이 책만으로도 코틀린 모바일 앱 개발자로 성장할 수 있도록 했다 특히 우리가 한번쯤 사용해 본 기능들을 실습 주제로 다뤄서 끝까지 흥미를 잃지 않고 학습할 수 있다 코틀린 문법의 핵심을 친절하게 설명했으며 앱의 첫 화면 설계부터 이벤트 처리 알림 데이터베이스 위치 정보 활용 네트워킹 파이어베이스 연동 등 자주 쓰는 기능을 직접 만들어 본다 이로써 독자는 안드로이드 앱의 구조와 개발 방법을 자연스럽게 익힐 수 있다 그 뿐만 아니라 최신 트렌드에 맞춰 제트팩 androidx 라이브러리의 다양한 API도 소개하며 안드로이드 버전에 따라 호환성을 고려한 개발도 자세하게 다룬다 또한 이론과 실습을 분리해 놓아 강의 교재로도 손색이 없다 이 책의 특징 안드로이드 티라미수을 기준으로 내용 및 소스를 업데이트했습니다 전체 실습 과정을 저자와 함께 진행하는 동영상 강의를 제공합니다 출간 후 순차적으로 업데이트 소스 코드에서 중요한 내용은 형광펜으로 강조하고 말풍선으로 안내말을 넣어 분석하는 데 도움을 줍니다 제트팩의 androidx 라이브러리를 활용한 최신 개발 기법을 제시하며 소스 코드는 코딩 컨벤션을 지켜 작성했습니다 깡샘 질문 있어요 코너에서는 수강생들과 주고받았던 다양한 유형의 질의응답을 소개합니다 이론과 실습을 분리해서 원하는 부분에 집중할 수 있도록 했습니다 학습 효과를 높이고 레퍼런스용으로도 좋습니다 일 완성 학습 계획표를 제공해 강의 계획서를 만들거나 독학자가 학습 계획을 세우고 성취도를 확인하는 데에 도움을 줍니다 전문 안드로이드 앱 개발자를 포함해 베타테스터 명이서 전체 실습 과정과 소스를 최신 버전의 개발 도구로 검증했습니다 모바일 개발자의 구인 공고가 바뀌고 있다 코틀린으로 안드로이드 앱 개발하기 안드로이드 앱을 개발할 때 코틀린 언어를 사용하면 자주 쓰는 코드를 줄이고 더 안전한 코드를 작성할 수 있습니다 코틀린을 사용해서 개발한 안드로이드 앱은 다운될 확률이 더 낮습니다 또한 코틀린은 자바와 호환되므로 자바 기반 코드를 함께 사용할 수도 있습니다 이 때문에 안드로이드 앱 개발자들은 이왕이면 코틀린으로 시작하라고 권하고 기업에서도 코틀린 사용자를 선호합니다 자바든 C 언어든 기초 프로그래밍을 한 번이라도 해본 입문자라면 이 책을 충분히 독학할 수 있으며 기존의 자바 기반 개발자라면 더 빠르게 코틀린 기반 안드로이드 앱을 개발할 수 있습니다 유명한 앱에서 자주 보던 기능을 만들면서 실무 감각을 익히자 책을 펼치면 각 장마다 해당 주제를 왜 배워야 하는지 어느 때에 사용하는지 배경 지식과 핵심 코드 자주 쓰는 기법부터 살펴봅니다 그리고 배운 내용을 바탕으로 유명한 앱에서 자주 보던 기능을 만들면서 실무 감각을 익힐 수 있습니다 기능 설명을 위한 가벼운 실습부터 할 일 기록 지도 MP 재생 뉴스 제공 등 총 가지 앱을 만들어 보면서 가장 많이 사용하는 기능을 자연스럽게 배울 수 있습니다 수천 명의 안드로이드 개발자를 양성한 깡샘 의 명성 그대로 안드로이드 분야에서 깡샘 으로 더 유명한 저자는 다양한 교육 기관과 기업체에서 모바일 앱 개발을 강의해 왔습니다 오랜 기간 쌓아 온 노하우를 바탕으로 실무와 교육 현장에서 여러 개발자 선생님께 검증받은 커리큘럼을 바탕으로 모바일 앱 개발자를 희망하는 수천 명의 수강생과 나눴던 땀과 열정의 하모니를 이 책에 담았습니다 독학도 가능하지만 직업전문학원 대학 교재로도 최적의 구성 교강사 분들을 위해 강의하는 부분과 학생이 실습할 부분으로 나누어서 교재로 사용하는 데에도 적합합니다 코드 작성 시간을 줄이고 핵심 내용에만 집중할 수 있도록 앱의 기본 코드가 미리 작성된 실습용 소스를 제공하며 독자는 이를 바탕으로 핵심 코드만 직접 작성하면서 실습을 진행합니다 물론 소스가 제대로 동작하지 않을 때 비교할 수 있도록 완성된 소스도 별도로 제공합니다 각 장마다 배운 내용을 정리할 수 있는 간단한 퀴즈도 풀어 보면서 실력을 쌓아 보세요 모바일 앱 개발의 아키텍처를 이해하고 응용력을 기르자 이 책의 목표는 모바일 앱 개발의 실무 역량을 기르는 것입니다 그래서 단순히 문법이나 조각식 코드만 나열하는 것으로 그치지 않고 모바일 앱 개발의 아키텍처 이해와 응용력을 기를 수 있도록 구성했습니다 안드로이드 앱의 핵심이라고 할 수 있는 가지 컴포넌트와 각 생명주기를 그림과 함께 자세하게 설명하고 익숙한 앱에서 사례를 들어 좀 더 쉽게 이해할 수 있도록 했습니다 또한 모바일 앱 개발 현장에서 자주 부딪히는 문제와 해결법을 제시함으로써 오류를 미연에 방지하고 완성도 높은 코드를 작성할 수 있도록 돕습니다 보기 편한 책 그림을 곁들인 해설로 안드로이드의 핵심을 꿰뚫다 책 전체를 도 컬러판으로 제작해 안드로이드 스튜디오의 소스 스타일과 색상 등을 그대로 적용했습니다 따라서 책에서도 컴퓨터의 실습 화면과 똑같은 사용자 경험을 제공합니다 또한 중간중간에 핵심 동작 원리 등을 그림으로 표현해 더욱 쉽게 이해할 수 있도록 했습니다 이 책을 미리 체험한 베타테스터들도 개념 파악을 위한 그림과 코딩 스타일 규약을 잘 지켜 표시한 소스를 큰 장점으로 꼽았습니다 이 책의 대상 독자 이 책은 객체지향 프로그래밍의 기초 지식만 있으면 내용과 코드를 이해하는 데 어려움이 없도록 구성했습니다 코틀린 언어를 처음 배운다면 둘째마당에서 소개하는 핵심 문법을 살펴보세요 그리고 안드로이드 앱을 처음 개발한다면 이론은 가볍게 읽고 실습 코드를 직접 작성해 보면서 코드에 익숙해지는 것이 중요합니다 그런 다음에 이론 부분을 한 번 더 보면 내용을 이해하는 데 도움이 됩니다 모바일 앱 개발자를 희망하는 학생 또는 취업 준비생 객체지향 언어를 한번쯤 공부해 본 사람 안드로이드 앱 개발을 처음부터 체계적으로 다시 배우려는 모바일 앱 개발자 코틀린 언어로 모바일 앱을 어떻게 개발하는지 알고 싶은 사람 구글의 제트팩 라이브러리 등 최신 구현 기법을 공부하고 싶은 사람 이 책의 실습 환경 이 책의 소스는 다음 환경에서 정상으로 테스트했습니다 혹시 안드로이드 API 버전이 업데이트되면 저자가 운영하는 블로그 kkangsnote tistory com 에서 최신 소식을 확인할 수 있습니다 안드로이드 API 레벨 버전 코드 T 플랫폼 버전 이지스퍼블리싱 독자 지원 저자 직강 무료 동영상 강의 bit ly IdLNQ 저자 직강 유료 동영상 강의 이론 실습 포함 https vo la m btma 실습용 소스 파일 이지스퍼블리싱 홈페이지 easyspub co kr 자료실에서 책 이름으로 검색 완성된 소스 파일 저자 블로그 kkangsnote tistory com 책을 읽다가 궁금한 내용은 저자 블로그에서 질문해 보세요 Do it 스터디룸 cafe naver com doitstudyroom 에서 운영하는 Do it 공부단 에 참여해 보세요 이 책으로 공부하며 나만의 스터디 노트를 작성하면 이지스퍼블리싱에서 출간한 다른 책을 선물로 받을 수 있습니다 이지스퍼블리싱 홈페이지에 회원가입을 하면 매달 정기 소식지를 통해 신간과 이벤트 소식을 확인할 수 있습니다 매달 전자책 한 권을 공개하는 이벤트도 진행해요'"
      ]
     },
     "execution_count": 34,
     "metadata": {},
     "output_type": "execute_result"
    }
   ],
   "source": [
    "from itertools import chain\n",
    "\n",
    "\n",
    "def convert_series_to_str(series: pd.Series) -> str:\n",
    "    book_title = series[\"title\"]\n",
    "    series = series.drop([\"title\", \"isbn13\"])\n",
    "\n",
    "    return book_title + \" \" + \" \".join(list(chain(*series.values)))\n"
   ]
  },
  {
   "cell_type": "code",
   "execution_count": 135,
   "metadata": {},
   "outputs": [],
   "source": [
    "def convert_series_to_keywords_list(series: pd.Series) -> str:\n",
    "    book_title = series[\"title\"]\n",
    "    series = series.drop([\"title\", \"isbn13\"])\n",
    "\n",
    "    raw_data = [book_title] + list(chain(* series.values))\n",
    "    return list(chain(* map(lambda x: x.split(), raw_data)))\n",
    "\n",
    "\n",
    "t = convert_series_to_keywords_list(test)"
   ]
  },
  {
   "cell_type": "code",
   "execution_count": 140,
   "metadata": {},
   "outputs": [],
   "source": [
    "def _map_eng_to_han(word: str,eng_han_dict:dict) -> str:\n",
    "    han_word = eng_han_dict.get(word)\n",
    "    return han_word if han_word else word\n",
    "\n",
    "\n",
    "def map_english_to_hangeul(word_list: list[str]) -> list[str]:\n",
    "    eng_han_df = pd.read_csv(\"data/englist.csv\")\n",
    "    eng_han_dict = dict(eng_han_df.values)\n",
    "    return list(map(lambda x: _map_eng_to_han(x,eng_han_dict), word_list))\n"
   ]
  },
  {
   "cell_type": "code",
   "execution_count": 142,
   "metadata": {},
   "outputs": [],
   "source": [
    "import utils\n",
    "from collections import Counter\n",
    "\n",
    "def extract_candidate_keywords(words: list[str], min_num: int = 2) -> list[str]:\n",
    "\n",
    "    # extract han keywords\n",
    "    def is_han(words: str):\n",
    "        return True if not words.encode().isalpha() else False\n",
    "\n",
    "    han_words = filter(is_han, words)\n",
    "    han_candidate_words = filter(lambda x: x[1] > min_num, Counter(han_words).items())\n",
    "\n",
    "    # extract eng keywords\n",
    "    def is_eng(words: str):\n",
    "        return True if words.encode().isalpha() else False\n",
    "\n",
    "    eng_words = filter(is_eng, words)\n",
    "    eng_candidate_words = filter(lambda x: x[1] > min_num, Counter(eng_words).items())\n",
    "\n",
    "    candidate_words = dict(chain(han_candidate_words, eng_candidate_words)).keys()\n",
    "\n",
    "    return list(candidate_words)\n"
   ]
  },
  {
   "cell_type": "code",
   "execution_count": 185,
   "metadata": {},
   "outputs": [],
   "source": [
    "def extract_keywords(test,min_num=2) : \n",
    "    t = convert_series_to_keywords_list(test)\n",
    "    t = map_english_to_hangeul(t)\n",
    "    t = extract_candidate_keywords(t,min_num)\n",
    "    return t\n",
    "\n",
    "test = raw_data.iloc[0]\n",
    "candidate_keywords = extract_keywords(test)\n",
    "    "
   ]
  },
  {
   "cell_type": "code",
   "execution_count": 1,
   "metadata": {},
   "outputs": [
    {
     "name": "stderr",
     "output_type": "stream",
     "text": [
      "Some weights of the model checkpoint at monologg/koelectra-base-v3-discriminator were not used when initializing ElectraModel: ['discriminator_predictions.dense.weight', 'discriminator_predictions.dense.bias', 'discriminator_predictions.dense_prediction.bias', 'discriminator_predictions.dense_prediction.weight']\n",
      "- This IS expected if you are initializing ElectraModel from the checkpoint of a model trained on another task or with another architecture (e.g. initializing a BertForSequenceClassification model from a BertForPreTraining model).\n",
      "- This IS NOT expected if you are initializing ElectraModel from the checkpoint of a model that you expect to be exactly identical (initializing a BertForSequenceClassification model from a BertForSequenceClassification model).\n"
     ]
    }
   ],
   "source": [
    "import pandas as pd\n",
    "from utils import keywordExtractor\n",
    "from transformers import ElectraModel, ElectraTokenizerFast\n",
    "\n",
    "model = ElectraModel.from_pretrained(\"monologg/koelectra-base-v3-discriminator\")\n",
    "tokenizer = ElectraTokenizerFast.from_pretrained(\"monologg/koelectra-base-v3-discriminator\")\n",
    "\n",
    "# load data\n",
    "raw_data = pd.read_parquet(\"../../data/book_scraping.parquet\")\n",
    "\n",
    "key = keywordExtractor(model, tokenizer)"
   ]
  },
  {
   "cell_type": "markdown",
   "metadata": {},
   "source": [
    "##### 테스트용"
   ]
  },
  {
   "cell_type": "code",
   "execution_count": 15,
   "metadata": {},
   "outputs": [],
   "source": [
    "# raw_data = pd.read_csv(\"../../data/raw_book_info_list.csv\",index_col=0)\n",
    "# from ast import literal_eval\n",
    "# book_info = raw_data.iloc[3]\n",
    "\n",
    "# book_info['book_toc'] = literal_eval(book_info['book_toc'])\n",
    "# book_info['book_intro'] = literal_eval(book_info['book_intro'])\n",
    "# book_info['publisher'] = literal_eval(book_info['publisher'])\n",
    "# book_info['isbn13'] = 1\n",
    "\n",
    "# book_info.index = ['title','toc','intro','publisher','isbn13']\n",
    "# book_info = pd.DataFrame(book_info).T"
   ]
  },
  {
   "cell_type": "code",
   "execution_count": 16,
   "metadata": {},
   "outputs": [],
   "source": [
    "# book_info = raw_data.iloc[:1]\n",
    "# keywords = map(lambda x : key.extract_keywords(x[1]),book_info.iterrows())\n",
    "# tokenized_keywords = map(key.tokenize_keywords,keywords)\n",
    "# keywords_embedding = list(map(key.create_keyword_embedding,tokenized_keywords))"
   ]
  },
  {
   "cell_type": "code",
   "execution_count": 18,
   "metadata": {},
   "outputs": [],
   "source": [
    "# # book_info = raw_data.iloc[:10]\n",
    "# stringfied_doc = map(lambda x : convert_series_to_str(x[1]),book_info.iterrows())\n",
    "# tokenized_doc = map(key.tokenize_keywords,stringfied_doc)\n",
    "# doc_embedding = list(map(lambda x : sbert(**x)[\"sentence_embedding\"],tokenized_doc))"
   ]
  },
  {
   "cell_type": "code",
   "execution_count": 112,
   "metadata": {},
   "outputs": [],
   "source": [
    "from sklearn.metrics.pairwise import cosine_similarity\n",
    "from itertools import islice\n",
    "import numpy as np\n",
    "\n",
    "\n",
    "def _calc_cosine_similarity(doc_embedding:torch.Tensor, keywords_embedding:torch.Tensor) -> np.array:\n",
    "    doc_embedding = doc_embedding.unsqueeze(0).detach()\n",
    "    keywords_embedding = keywords_embedding.detach()\n",
    "\n",
    "    doc_score = list(map(lambda x: cosine_similarity(x, keywords_embedding), doc_embedding))\n",
    "\n",
    "    max_pooling = np.max(doc_score, axis=0)  # Max\n",
    "    return max_pooling\n",
    "\n",
    "\n",
    "def _filter_top_n_keywords(keyword_list:list,co_sim_score:np.array,rank:int=20) -> list :\n",
    "    keywords = dict(zip(keyword_list,co_sim_score))\n",
    "    sorted_keywords = sorted(keywords.items(), key=lambda k: k[1], reverse=True)\n",
    "    return list(dict(islice(sorted_keywords,rank)).keys())\n"
   ]
  },
  {
   "cell_type": "code",
   "execution_count": 113,
   "metadata": {},
   "outputs": [],
   "source": []
  },
  {
   "cell_type": "code",
   "execution_count": 114,
   "metadata": {},
   "outputs": [
    {
     "data": {
      "text/plain": [
       "{'9791163034254': ['이지스퍼블리싱',\n",
       "  '호환성',\n",
       "  '제트팩',\n",
       "  '객체지향',\n",
       "  '파이어베이스',\n",
       "  '과정',\n",
       "  'androidx',\n",
       "  '컴포넌트',\n",
       "  'api',\n",
       "  '안드로이드',\n",
       "  '소스',\n",
       "  '코드',\n",
       "  '활용',\n",
       "  '액티비티',\n",
       "  '코틀린',\n",
       "  '라이브러리',\n",
       "  '구글',\n",
       "  '위치',\n",
       "  '설명',\n",
       "  '저자'],\n",
       " '9788966263677': ['컴파일하',\n",
       "  '디버깅',\n",
       "  '바이트코드',\n",
       "  '인터프리터',\n",
       "  '구조체',\n",
       "  '병렬성',\n",
       "  '컴파일러',\n",
       "  '파이썬',\n",
       "  '딕셔너리',\n",
       "  '디버거',\n",
       "  '리눅스',\n",
       "  'api',\n",
       "  '가비지',\n",
       "  '심벌',\n",
       "  '구성하기',\n",
       "  '스레드',\n",
       "  'cpython',\n",
       "  '프레',\n",
       "  '동시성',\n",
       "  'make']}"
      ]
     },
     "execution_count": 114,
     "metadata": {},
     "output_type": "execute_result"
    }
   ],
   "source": [
    "data = raw_data.iloc[:2]\n",
    "\n",
    "def extract_keywords(docs:pd.DataFrame) -> dict:\n",
    "    keywords_embedding = map(lambda x : key.create_keyword_embedding(x[1]),docs.iterrows())\n",
    "    doc_embedding = map(lambda x : key.create_doc_embeddings(x[1]),docs.iterrows())\n",
    "    keyword_list = map(lambda x : key._extract_keywords(x[1]),docs.iterrows())\n",
    "\n",
    "    co_sim_score = map(lambda x : _calc_cosine_similarity(*x).flatten(),zip(doc_embedding,keywords_embedding))\n",
    "    top_n_keywords = list(map(lambda x : _filter_top_n_keywords(*x),zip(keyword_list,co_sim_score)))\n",
    "\n",
    "    return dict(zip(docs['isbn13'].values,top_n_keywords))\n",
    "\n",
    "extract_keywords(data)"
   ]
  },
  {
   "cell_type": "code",
   "execution_count": null,
   "metadata": {},
   "outputs": [],
   "source": []
  }
 ],
 "metadata": {
  "kernelspec": {
   "display_name": "Python 3",
   "language": "python",
   "name": "python3"
  },
  "language_info": {
   "codemirror_mode": {
    "name": "ipython",
    "version": 3
   },
   "file_extension": ".py",
   "mimetype": "text/x-python",
   "name": "python",
   "nbconvert_exporter": "python",
   "pygments_lexer": "ipython3",
   "version": "3.9.1"
  },
  "orig_nbformat": 4
 },
 "nbformat": 4,
 "nbformat_minor": 2
}
