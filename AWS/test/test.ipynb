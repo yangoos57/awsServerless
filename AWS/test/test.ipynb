{
 "cells": [
  {
   "cell_type": "code",
   "execution_count": null,
   "metadata": {},
   "outputs": [],
   "source": [
    "import requests\n",
    "\n",
    "url = 'https://k99ltdy1y6.execute-api.ap-northeast-2.amazonaws.com/DoDo-API'\n",
    "req = requests.get(url,params={'ISBN':1234})\n",
    "\n",
    "req.text"
   ]
  }
 ],
 "metadata": {
  "language_info": {
   "name": "python"
  },
  "orig_nbformat": 4
 },
 "nbformat": 4,
 "nbformat_minor": 2
}
