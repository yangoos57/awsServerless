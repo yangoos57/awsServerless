{
 "cells": [
  {
   "cell_type": "code",
   "execution_count": null,
   "metadata": {},
   "outputs": [],
   "source": [
    "import requests\n",
    "\n",
    "url = 'https://api.yangoos.me'\n",
    "req = requests.get(url,params={'ISBN':1234})\n",
    "\n",
    "req.text"
   ]
  },
  {
   "cell_type": "code",
   "execution_count": null,
   "metadata": {},
   "outputs": [],
   "source": [
    "import boto3\n",
    "\n",
    "dynamodb = boto3.resource(\"dynamodb\", region_name=\"ap-northeast-2\")\n",
    "table = dynamodb.Table(\"DoDoTable\")\n",
    "\n",
    "\n",
    "def lambda_handler(event, context):\n",
    "    print(event)\n",
    "    item_id = int(event[\"ISBN\"])\n",
    "    response = table.get_item(Key={\"ISBN\": item_id})\n",
    "    if \"Item\" in response:\n",
    "        item = response[\"Item\"]\n",
    "        return {\n",
    "            \"statusCode\": 200,\n",
    "            \"headers\": {\n",
    "                \"Access-Control-Allow-Headers\": \"Content-Type\",\n",
    "                \"Access-Control-Allow-Origin\": \"https://yangoos.me\",\n",
    "                \"Access-Control-Allow-Methods\": \"GET\",\n",
    "            },\n",
    "            \"Result\": item,\n",
    "        }\n",
    "    else:\n",
    "        return {\n",
    "            \"statusCode\": 200,\n",
    "            \"headers\": {\n",
    "                \"Access-Control-Allow-Headers\": \"Content-Type\",\n",
    "                \"Access-Control-Allow-Origin\": \"https://yangoos.me\",\n",
    "                \"Access-Control-Allow-Methods\": \"GET\",\n",
    "            },\n",
    "            \"Result\": \"Failed to Load Dynamo DB Items\",\n",
    "            \"ISBN\": event[\"ISBN\"],\n",
    "        }\n"
   ]
  }
 ],
 "metadata": {
  "kernelspec": {
   "display_name": "Python 3",
   "language": "python",
   "name": "python3"
  },
  "language_info": {
   "codemirror_mode": {
    "name": "ipython",
    "version": 3
   },
   "file_extension": ".py",
   "mimetype": "text/x-python",
   "name": "python",
   "nbconvert_exporter": "python",
   "pygments_lexer": "ipython3",
   "version": "3.9.1"
  },
  "orig_nbformat": 4
 },
 "nbformat": 4,
 "nbformat_minor": 2
}
