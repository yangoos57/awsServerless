{
 "cells": [
  {
   "attachments": {},
   "cell_type": "markdown",
   "metadata": {},
   "source": [
    "### generate Itmes"
   ]
  },
  {
   "cell_type": "code",
   "execution_count": 1,
   "metadata": {},
   "outputs": [
    {
     "data": {
      "text/plain": [
       "{'24e0409c-d921-4f60-9483-d880d8cfacd0', 'query_id : '}"
      ]
     },
     "execution_count": 1,
     "metadata": {},
     "output_type": "execute_result"
    }
   ],
   "source": [
    "from typing import List\n",
    "import utils\n",
    "\n",
    "\n",
    "def generate_items(user_search: List, selected_lib: List):\n",
    "    book_payload = {\"user_search\": user_search, \"selected_lib\": selected_lib}\n",
    "    result_book_list = utils.requests_book_items(book_payload)\n",
    "\n",
    "    query_id = result_book_list[\"query_id\"]\n",
    "    book_list = list(map(lambda x: x[\"isbn13\"], result_book_list[\"result\"]))\n",
    "\n",
    "    len_books = len(book_list)\n",
    "    if len_books > 0:\n",
    "        indicies = utils.generate_book_item_indices(len_books)\n",
    "        user_id = utils.generate_user_id()\n",
    "        for idx in indicies:\n",
    "            utils.record_user_choice(user_id=user_id, query_id=query_id, isbn13=book_list[idx])\n",
    "\n",
    "    return {\"query_id\":query_id}\n",
    "\n",
    "generate_items(['카프카','파이썬'],['영등포'])"
   ]
  }
 ],
 "metadata": {
  "kernelspec": {
   "display_name": "Python 3",
   "language": "python",
   "name": "python3"
  },
  "language_info": {
   "codemirror_mode": {
    "name": "ipython",
    "version": 3
   },
   "file_extension": ".py",
   "mimetype": "text/x-python",
   "name": "python",
   "nbconvert_exporter": "python",
   "pygments_lexer": "ipython3",
   "version": "3.9.1"
  },
  "orig_nbformat": 4
 },
 "nbformat": 4,
 "nbformat_minor": 2
}
