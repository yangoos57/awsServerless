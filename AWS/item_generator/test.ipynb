{
 "cells": [
  {
   "attachments": {},
   "cell_type": "markdown",
   "metadata": {},
   "source": [
    "### generate Itmes"
   ]
  },
  {
   "cell_type": "code",
   "execution_count": 3,
   "metadata": {},
   "outputs": [
    {
     "name": "stderr",
     "output_type": "stream",
     "text": [
      "/var/folders/rh/7xnmdybn7778kzq927hfcn8c0000gn/T/ipykernel_87617/3274769597.py:4: RuntimeWarning: coroutine 'generate_item' was never awaited\n",
      "  tasks = []\n",
      "RuntimeWarning: Enable tracemalloc to get the object allocation traceback\n"
     ]
    },
    {
     "ename": "RuntimeError",
     "evalue": "asyncio.run() cannot be called from a running event loop",
     "output_type": "error",
     "traceback": [
      "\u001b[0;31m---------------------------------------------------------------------------\u001b[0m",
      "\u001b[0;31mRuntimeError\u001b[0m                              Traceback (most recent call last)",
      "\u001b[1;32m/Users/yangwoolee/git_repo/dodomoa/AWS/item_generator/test.ipynb Cell 2\u001b[0m in \u001b[0;36m<cell line: 10>\u001b[0;34m()\u001b[0m\n\u001b[1;32m      <a href='vscode-notebook-cell:/Users/yangwoolee/git_repo/dodomoa/AWS/item_generator/test.ipynb#W1sZmlsZQ%3D%3D?line=6'>7</a>\u001b[0m     random_keywords \u001b[39m=\u001b[39m utils\u001b[39m.\u001b[39mgenerate_lib()\n\u001b[1;32m      <a href='vscode-notebook-cell:/Users/yangwoolee/git_repo/dodomoa/AWS/item_generator/test.ipynb#W1sZmlsZQ%3D%3D?line=7'>8</a>\u001b[0m     tasks\u001b[39m.\u001b[39mappend(utils\u001b[39m.\u001b[39mgenerate_item(user_search\u001b[39m=\u001b[39mrandom_keywords,selected_lib\u001b[39m=\u001b[39mrandom_keywords))\n\u001b[0;32m---> <a href='vscode-notebook-cell:/Users/yangwoolee/git_repo/dodomoa/AWS/item_generator/test.ipynb#W1sZmlsZQ%3D%3D?line=9'>10</a>\u001b[0m asyncio\u001b[39m.\u001b[39;49mrun(asyncio\u001b[39m.\u001b[39;49mwait(tasks))\n",
      "File \u001b[0;32m~/.pyenv/versions/3.9.1/lib/python3.9/asyncio/runners.py:33\u001b[0m, in \u001b[0;36mrun\u001b[0;34m(main, debug)\u001b[0m\n\u001b[1;32m      9\u001b[0m \u001b[39m\"\"\"Execute the coroutine and return the result.\u001b[39;00m\n\u001b[1;32m     10\u001b[0m \n\u001b[1;32m     11\u001b[0m \u001b[39mThis function runs the passed coroutine, taking care of\u001b[39;00m\n\u001b[0;32m   (...)\u001b[0m\n\u001b[1;32m     30\u001b[0m \u001b[39m    asyncio.run(main())\u001b[39;00m\n\u001b[1;32m     31\u001b[0m \u001b[39m\"\"\"\u001b[39;00m\n\u001b[1;32m     32\u001b[0m \u001b[39mif\u001b[39;00m events\u001b[39m.\u001b[39m_get_running_loop() \u001b[39mis\u001b[39;00m \u001b[39mnot\u001b[39;00m \u001b[39mNone\u001b[39;00m:\n\u001b[0;32m---> 33\u001b[0m     \u001b[39mraise\u001b[39;00m \u001b[39mRuntimeError\u001b[39;00m(\n\u001b[1;32m     34\u001b[0m         \u001b[39m\"\u001b[39m\u001b[39masyncio.run() cannot be called from a running event loop\u001b[39m\u001b[39m\"\u001b[39m)\n\u001b[1;32m     36\u001b[0m \u001b[39mif\u001b[39;00m \u001b[39mnot\u001b[39;00m coroutines\u001b[39m.\u001b[39miscoroutine(main):\n\u001b[1;32m     37\u001b[0m     \u001b[39mraise\u001b[39;00m \u001b[39mValueError\u001b[39;00m(\u001b[39m\"\u001b[39m\u001b[39ma coroutine was expected, got \u001b[39m\u001b[39m{!r}\u001b[39;00m\u001b[39m\"\u001b[39m\u001b[39m.\u001b[39mformat(main))\n",
      "\u001b[0;31mRuntimeError\u001b[0m: asyncio.run() cannot be called from a running event loop"
     ]
    }
   ],
   "source": [
    "import utils\n",
    "import asyncio\n",
    "\n",
    "tasks = []\n",
    "for _ in range(2):\n",
    "    random_keywords = utils.generate_keywords()\n",
    "    random_keywords = utils.generate_lib()\n",
    "    tasks.append(utils.generate_item(user_search=random_keywords,selected_lib=random_keywords))\n",
    "\n",
    "asyncio.run(asyncio.wait(tasks))"
   ]
  }
 ],
 "metadata": {
  "kernelspec": {
   "display_name": "Python 3",
   "language": "python",
   "name": "python3"
  },
  "language_info": {
   "codemirror_mode": {
    "name": "ipython",
    "version": 3
   },
   "file_extension": ".py",
   "mimetype": "text/x-python",
   "name": "python",
   "nbconvert_exporter": "python",
   "pygments_lexer": "ipython3",
   "version": "3.9.1"
  },
  "orig_nbformat": 4
 },
 "nbformat": 4,
 "nbformat_minor": 2
}
